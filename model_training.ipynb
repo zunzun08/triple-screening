{
 "cells": [
  {
   "cell_type": "code",
   "execution_count": 1,
   "id": "14270895",
   "metadata": {},
   "outputs": [],
   "source": [
    "from pyspark.sql import SparkSession\n",
    "from pyspark import SparkContext\n",
    "from pyspark import SparkFiles\n",
    "import pandas as pd\n",
    "import numpy as np\n",
    "import requests\n",
    "from IPython.display import HTML\n"
   ]
  },
  {
   "cell_type": "markdown",
   "id": "c99061d3",
   "metadata": {},
   "source": [
    "# Problem:\n",
    "We need to train a NLP model on sets financial data in order for it to predict the sentiment of financial data\n",
    "\n",
    "\n",
    "For this task, We want to use the BERT model, it's flexibility and popularity make it an obvious choice for sentiment analysis.\n",
    "Because of BERT's popularity, it has high support in case we run into any problems training the model.\n",
    "\n",
    "\n",
    "## Data:\n",
    "Our Data will be sourced from Hugging Face and Kaggle and the goal of the data will be to provide BERT with the following qualities:\n",
    "\n",
    "-An understanding of key words used in Human Emotional intelligence\n",
    "-Market Volatility\n",
    "-Financial Vocabulary\n",
    "-Understanding of the impact financial news has on financial markets\n",
    "\n",
    "Basically, if BERT were a person it would be an English major looking to become a stock trader.\n",
    "\n",
    "Our data should reflect our goals, therefore the data we will use to match these goals will be:\n",
    "## Financial Vocabulary:\n",
    "### [Investopedia embeddings](https://huggingface.co/datasets/FinLang/investopedia-embedding-dataset)\n",
    "\n",
    "## Human Emotional Intelligence/Market Volatility:\n",
    "### [Stock Market Tweets](https://huggingface.co/datasets/mjw/stock_market_tweets)\n",
    "\n",
    "## Financial News Impact\n",
    "### [Reuters Financial News](https://huggingface.co/datasets/danidanou/Reuters_Financial_News)\n",
    "\n",
    "\n",
    "## Emotional Intelligence:\n",
    "### [Emotions Dataset](https://huggingface.co/datasets/boltuix/emotions-dataset)\n",
    "\n"
   ]
  },
  {
   "cell_type": "code",
   "execution_count": 2,
   "id": "3782eb91",
   "metadata": {},
   "outputs": [
    {
     "name": "stderr",
     "output_type": "stream",
     "text": [
      "Setting default log level to \"WARN\".\n",
      "To adjust logging level use sc.setLogLevel(newLevel). For SparkR, use setLogLevel(newLevel).\n"
     ]
    },
    {
     "name": "stdout",
     "output_type": "stream",
     "text": [
      "25/05/29 15:50:52 WARN NativeCodeLoader: Unable to load native-hadoop library for your platform... using builtin-java classes where applicable\n"
     ]
    },
    {
     "data": {
      "text/html": [
       "\n",
       "<iframe src=\"https://huggingface.co/datasets/danidanou/Reuters_Financial_News/embed/viewer\" width=\"80%\" height=\"560px\"></iframe>\n"
      ],
      "text/plain": [
       "<IPython.core.display.HTML object>"
      ]
     },
     "metadata": {},
     "output_type": "display_data"
    }
   ],
   "source": [
    "#Test run with Reuters dataset\n",
    "\n",
    "spark = SparkSession.builder.appName(\"ReutersNews\").getOrCreate()\n",
    "dataset = \"danidanou/Reuters_Financial_News\"\n",
    "\n",
    "iframe_html = \"\"\"\n",
    "<iframe src=\"https://huggingface.co/datasets/{dataset}/embed/viewer\" width=\"80%\" height=\"560px\"></iframe>\n",
    "\"\"\".format(dataset=dataset)\n",
    "display(HTML(iframe_html))"
   ]
  },
  {
   "cell_type": "code",
   "execution_count": 3,
   "id": "4aede410",
   "metadata": {},
   "outputs": [
    {
     "name": "stderr",
     "output_type": "stream",
     "text": [
      "                                                                                \r"
     ]
    }
   ],
   "source": [
    "#Loading Reuters Data into Spark\n",
    "\n",
    "HUGGING_FACE_PARQUET_API = \"https://huggingface.co/api/datasets/{dataset}/parquet\"\n",
    "r = requests.get(HUGGING_FACE_PARQUET_API.format(dataset=dataset))\n",
    "\n",
    "train_parquet_files = r.json()['default']['train']\n",
    "\n",
    "for url in train_parquet_files:\n",
    "    spark.sparkContext.addFile(url)\n",
    "\n",
    "df = spark.read.parquet(SparkFiles.getRootDirectory() + \"/*.parquet\")"
   ]
  },
  {
   "cell_type": "code",
   "execution_count": 4,
   "id": "d3d6ea0e",
   "metadata": {},
   "outputs": [
    {
     "name": "stdout",
     "output_type": "stream",
     "text": [
      "Shape of the dataset: 105359, 7\n"
     ]
    }
   ],
   "source": [
    "print(f\"Shape of the dataset: {df.count()}, {len(df.columns)}\")"
   ]
  },
  {
   "cell_type": "code",
   "execution_count": 5,
   "id": "23487cea",
   "metadata": {},
   "outputs": [
    {
     "name": "stdout",
     "output_type": "stream",
     "text": [
      "+--------------------+--------------------+--------------------+--------------------+--------------------+--------------------+-----------------+\n",
      "|            Headline|         Journalists|                Date|                Link|             Summary|             Article|__index_level_0__|\n",
      "+--------------------+--------------------+--------------------+--------------------+--------------------+--------------------+-----------------+\n",
      "|Hitachi, GE boost...|                  []|Mon Nov 13, 2006 ...|http://www.reuter...| TOKYO - Hitachi ...| The move comes a...|                0|\n",
      "|Volvo to cut 1,00...|                  []|Mon Nov 13, 2006 ...|http://www.reuter...| STOCKHOLM - Truc...| After years of s...|                1|\n",
      "|European banks hi...|      [Andrew Hurst]|Mon Nov 13, 2006 ...|http://www.reuter...| ZURICH, Nov 13 (...| Since adopting I...|                2|\n",
      "|Hitachi, GE to fo...|    [Mayumi Negishi]|Mon Nov 13, 2006 ...|http://www.reuter...| TOKYO - Japan's ...| The partnership ...|                3|\n",
      "|Eddie Bauer agree...|                  []|Mon Nov 13, 2006 ...|http://www.reuter...| - Eddie Bauer Ho...| The cash deal is...|                4|\n",
      "|IBM to join Citig...|[George Chen, ria...|Mon Nov 13, 2006 ...|http://www.reuter...| HONG KONG - Inte...| IBM Global Finan...|                5|\n",
      "|Yum takes slower ...|     [Nichola Groom]|Mon Nov 13, 2006 ...|http://www.reuter...| SHANGHAI - Yum B...| The fast-food co...|                6|\n",
      "|Illumina to buy g...|                  []|Mon Nov 13, 2006 ...|http://www.reuter...| NEW YORK/LONDON ...| The deal crystal...|                7|\n",
      "|American Express ...|                  []|Mon Nov 13, 2006 ...|http://www.reuter...| NEW YORK - Ameri...| The purchase is ...|                8|\n",
      "|GE, Hitachi form ...|[Mayumi Negishi, ...|Mon Nov 13, 2006 ...|http://www.reuter...| BOSTON/TOKYO - U...| The two companie...|                9|\n",
      "+--------------------+--------------------+--------------------+--------------------+--------------------+--------------------+-----------------+\n",
      "only showing top 10 rows\n",
      "\n"
     ]
    }
   ],
   "source": [
    "df.show(n=10)"
   ]
  },
  {
   "cell_type": "code",
   "execution_count": 6,
   "id": "f4cc031d",
   "metadata": {},
   "outputs": [
    {
     "name": "stderr",
     "output_type": "stream",
     "text": [
      "[Stage 5:============================================>              (6 + 2) / 8]\r"
     ]
    },
    {
     "name": "stdout",
     "output_type": "stream",
     "text": [
      "+-------+--------------------+--------------------+--------------------+--------------------+--------------------+------------------+\n",
      "|summary|            Headline|                Date|                Link|             Summary|             Article| __index_level_0__|\n",
      "+-------+--------------------+--------------------+--------------------+--------------------+--------------------+------------------+\n",
      "|  count|              105359|              105359|              105359|              105359|              105359|            105359|\n",
      "|   mean|                null|                null|                null|                null|                null| 53243.31900454636|\n",
      "| stddev|                null|                null|                null|                null|                null|30733.590297559498|\n",
      "|    min|\"A lot hangs\" on ...|Fri Apr 1, 2011 1...|http://www.reuter...|                    |                    |                 0|\n",
      "|    max|iTunes-like video...|Wed Sep 9, 2009 9...|http://www.reuter...| {\\rtf1\\ansi\\ansi...| {\\colortbl ;\\red...|            106493|\n",
      "+-------+--------------------+--------------------+--------------------+--------------------+--------------------+------------------+\n",
      "\n"
     ]
    },
    {
     "name": "stderr",
     "output_type": "stream",
     "text": [
      "                                                                                \r"
     ]
    }
   ],
   "source": [
    "df.describe().show()"
   ]
  },
  {
   "cell_type": "code",
   "execution_count": 7,
   "id": "1397f1bf",
   "metadata": {},
   "outputs": [
    {
     "name": "stdout",
     "output_type": "stream",
     "text": [
      "+--------------------+\n",
      "|            Headline|\n",
      "+--------------------+\n",
      "|Hitachi, GE boost...|\n",
      "|Volvo to cut 1,00...|\n",
      "|European banks hi...|\n",
      "|Hitachi, GE to fo...|\n",
      "|Eddie Bauer agree...|\n",
      "|IBM to join Citig...|\n",
      "|Yum takes slower ...|\n",
      "|Illumina to buy g...|\n",
      "|American Express ...|\n",
      "|GE, Hitachi form ...|\n",
      "|Clear Channel bid...|\n",
      "|U.S. investor Bra...|\n",
      "|Motorola wins $1....|\n",
      "|Foundation blocks...|\n",
      "|Starbucks sees 2,...|\n",
      "|Stocks rise on oi...|\n",
      "|Eddie Bauer accep...|\n",
      "|DRAM demand for Q...|\n",
      "|Ex-KB Home chief ...|\n",
      "|Holiday sales see...|\n",
      "+--------------------+\n",
      "only showing top 20 rows\n",
      "\n"
     ]
    }
   ],
   "source": [
    "df.select('Headline').show()"
   ]
  },
  {
   "cell_type": "code",
   "execution_count": null,
   "id": "1ae3549b",
   "metadata": {},
   "outputs": [],
   "source": [
    "from transformers import BertTokenizer\n",
    "from pyspark.sql.types import ArrayType, IntegerType, StructType, StructField\n",
    "from pyspark.sql.functions import pandas_udf\n",
    "import pandas as pd\n",
    "\n",
    "configuartion=\"bert-base-uncased\"\n",
    "tokenizer = BertTokenizer.from_pretrained(configuartion)\n",
    "\n",
    "tokenized_schema = StructType([\n",
    "    StructField(\"input_ID\", IntegerType()),\n",
    "    StructField(\"attention_mask\", ArrayType(IntegerType())),\n",
    "    StructField(\"token_id\", ArrayType(IntegerType()))\n",
    "])\n",
    "\n",
    "@pandas_udf(tokenized_schema)\n",
    "def bert_tokenize(text_series: pd.Series) -> pd.DataFrame:\n",
    "    tokenized_data = {\n",
    "        \"input_ids\": [],\n",
    "        \"attention_mask\":[],\n",
    "        \"token_id\": []\n",
    "    }\n",
    "    for text in text_series:\n",
    "        encoding = tokenizer.encode_plus(\n",
    "            text,\n",
    "            max_length=128,\n",
    "            padding=\"max_length\",\n",
    "            truncation=True,\n",
    "            return_token_type_ids = True)\n",
    "        \n",
    "        tokenized_data[\"input_ids\"].append(encoding['input_ids'])\n",
    "        tokenized_data[\"attention_mask\"].append(encoding['attention_mask'])\n",
    "        tokenized_data['input_ids'].append(encoding['token_type_ids'])\n",
    "    return pd.DataFrame(tokenized_data)\n",
    "\n",
    "#Headline tokens\n",
    "tokenized_df = df.withColumn(\"tokens\", bert_tokenize(df[\"Headline\"]))"
   ]
  },
  {
   "cell_type": "code",
   "execution_count": 12,
   "id": "4894bf57",
   "metadata": {},
   "outputs": [
    {
     "name": "stdout",
     "output_type": "stream",
     "text": [
      "Shape of the dataset: 105359, 8\n"
     ]
    }
   ],
   "source": [
    "print(f\"Shape of the dataset: {tokenized_df.count()}, {len(tokenized_df.columns)}\")"
   ]
  },
  {
   "cell_type": "code",
   "execution_count": null,
   "id": "143c7f04",
   "metadata": {},
   "outputs": [],
   "source": []
  }
 ],
 "metadata": {
  "kernelspec": {
   "display_name": "Python 3",
   "language": "python",
   "name": "python3"
  },
  "language_info": {
   "codemirror_mode": {
    "name": "ipython",
    "version": 3
   },
   "file_extension": ".py",
   "mimetype": "text/x-python",
   "name": "python",
   "nbconvert_exporter": "python",
   "pygments_lexer": "ipython3",
   "version": "3.10.17"
  }
 },
 "nbformat": 4,
 "nbformat_minor": 5
}
