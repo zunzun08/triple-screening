{
 "cells": [
  {
   "cell_type": "code",
   "execution_count": 21,
   "id": "14270895",
   "metadata": {},
   "outputs": [],
   "source": [
    "from pyspark.sql import SparkSession\n",
    "from pyspark import SparkContext\n",
    "from pyspark import SparkFiles\n",
    "import pandas as pd\n",
    "import numpy as np\n",
    "import requests\n",
    "from IPython.display import HTML\n",
    "from transformers import TrainingArguments, Trainer, DataCollatorForLanguageModeling, LongformerForMaskedLM,LongformerTokenizer\n",
    "from datasets import Dataset\n"
   ]
  },
  {
   "cell_type": "markdown",
   "id": "c99061d3",
   "metadata": {},
   "source": [
    "# Problem:\n",
    "We need to train a NLP model on sets financial data in order for it to predict the sentiment of financial data\n",
    "\n",
    "\n",
    "For this task, We want to use the BERT model, it's flexibility and popularity make it an obvious choice for sentiment analysis.\n",
    "Because of BERT's popularity, it has high support in case we run into any problems training the model.\n",
    "\n",
    "\n",
    "## Data:\n",
    "Our Data will be sourced from Hugging Face and Kaggle and the goal of the data will be to provide BERT with the following qualities:\n",
    "\n",
    "-An understanding of key words used in Human Emotional intelligence\n",
    "-Market Volatility\n",
    "-Financial Vocabulary\n",
    "-Understanding of the impact financial news has on financial markets\n",
    "\n",
    "Basically, if BERT were a person it would be an English major looking to become a stock trader.\n",
    "\n",
    "Our data should reflect our goals, therefore the data we will use to match these goals will be:\n",
    "## Financial Vocabulary:\n",
    "### [Investopedia embeddings](https://huggingface.co/datasets/FinLang/investopedia-embedding-dataset)\n",
    "\n",
    "## Human Emotional Intelligence/Market Volatility:\n",
    "### [Stock Market Tweets](https://huggingface.co/datasets/mjw/stock_market_tweets)\n",
    "\n",
    "## Financial News Impact\n",
    "### [Reuters Financial News](https://huggingface.co/datasets/danidanou/Reuters_Financial_News)\n",
    "\n",
    "\n",
    "## Emotional Intelligence:\n",
    "### [Emotions Dataset](https://huggingface.co/datasets/boltuix/emotions-dataset)\n",
    "\n"
   ]
  },
  {
   "cell_type": "code",
   "execution_count": 22,
   "id": "3782eb91",
   "metadata": {},
   "outputs": [
    {
     "data": {
      "text/html": [
       "\n",
       "<iframe src=\"https://huggingface.co/datasets/danidanou/Reuters_Financial_News/embed/viewer\" width=\"80%\" height=\"560px\"></iframe>\n"
      ],
      "text/plain": [
       "<IPython.core.display.HTML object>"
      ]
     },
     "metadata": {},
     "output_type": "display_data"
    }
   ],
   "source": [
    "#Test run with Reuters dataset\n",
    "\n",
    "spark = SparkSession.builder.appName(\"ReutersNews\").getOrCreate()\n",
    "dataset = \"danidanou/Reuters_Financial_News\"\n",
    "\n",
    "iframe_html = \"\"\"\n",
    "<iframe src=\"https://huggingface.co/datasets/{dataset}/embed/viewer\" width=\"80%\" height=\"560px\"></iframe>\n",
    "\"\"\".format(dataset=dataset)\n",
    "display(HTML(iframe_html))"
   ]
  },
  {
   "cell_type": "code",
   "execution_count": 23,
   "id": "4aede410",
   "metadata": {},
   "outputs": [
    {
     "name": "stdout",
     "output_type": "stream",
     "text": [
      "25/06/02 17:39:15 WARN SparkContext: The path https://huggingface.co/api/datasets/danidanou/Reuters_Financial_News/parquet/default/train/0.parquet has been added already. Overwriting of added paths is not supported in the current version.\n"
     ]
    }
   ],
   "source": [
    "#Loading Reuters Data into Spark\n",
    "\n",
    "HUGGING_FACE_PARQUET_API = \"https://huggingface.co/api/datasets/{dataset}/parquet\"\n",
    "r = requests.get(HUGGING_FACE_PARQUET_API.format(dataset=dataset))\n",
    "\n",
    "train_parquet_files = r.json()['default']['train']\n",
    "\n",
    "for url in train_parquet_files:\n",
    "    spark.sparkContext.addFile(url)\n",
    "\n",
    "df = spark.read.parquet(SparkFiles.getRootDirectory() + \"/*.parquet\")"
   ]
  },
  {
   "cell_type": "code",
   "execution_count": 24,
   "id": "d3d6ea0e",
   "metadata": {},
   "outputs": [
    {
     "name": "stdout",
     "output_type": "stream",
     "text": [
      "Shape of the dataset: 105359, 7\n"
     ]
    }
   ],
   "source": [
    "print(f\"Shape of the dataset: {df.count()}, {len(df.columns)}\")"
   ]
  },
  {
   "cell_type": "code",
   "execution_count": 25,
   "id": "23487cea",
   "metadata": {},
   "outputs": [
    {
     "name": "stdout",
     "output_type": "stream",
     "text": [
      "+--------------------+--------------------+--------------------+--------------------+--------------------+--------------------+-----------------+\n",
      "|            Headline|         Journalists|                Date|                Link|             Summary|             Article|__index_level_0__|\n",
      "+--------------------+--------------------+--------------------+--------------------+--------------------+--------------------+-----------------+\n",
      "|Hitachi, GE boost...|                  []|Mon Nov 13, 2006 ...|http://www.reuter...| TOKYO - Hitachi ...| The move comes a...|                0|\n",
      "|Volvo to cut 1,00...|                  []|Mon Nov 13, 2006 ...|http://www.reuter...| STOCKHOLM - Truc...| After years of s...|                1|\n",
      "|European banks hi...|      [Andrew Hurst]|Mon Nov 13, 2006 ...|http://www.reuter...| ZURICH, Nov 13 (...| Since adopting I...|                2|\n",
      "|Hitachi, GE to fo...|    [Mayumi Negishi]|Mon Nov 13, 2006 ...|http://www.reuter...| TOKYO - Japan's ...| The partnership ...|                3|\n",
      "|Eddie Bauer agree...|                  []|Mon Nov 13, 2006 ...|http://www.reuter...| - Eddie Bauer Ho...| The cash deal is...|                4|\n",
      "|IBM to join Citig...|[George Chen, ria...|Mon Nov 13, 2006 ...|http://www.reuter...| HONG KONG - Inte...| IBM Global Finan...|                5|\n",
      "|Yum takes slower ...|     [Nichola Groom]|Mon Nov 13, 2006 ...|http://www.reuter...| SHANGHAI - Yum B...| The fast-food co...|                6|\n",
      "|Illumina to buy g...|                  []|Mon Nov 13, 2006 ...|http://www.reuter...| NEW YORK/LONDON ...| The deal crystal...|                7|\n",
      "|American Express ...|                  []|Mon Nov 13, 2006 ...|http://www.reuter...| NEW YORK - Ameri...| The purchase is ...|                8|\n",
      "|GE, Hitachi form ...|[Mayumi Negishi, ...|Mon Nov 13, 2006 ...|http://www.reuter...| BOSTON/TOKYO - U...| The two companie...|                9|\n",
      "+--------------------+--------------------+--------------------+--------------------+--------------------+--------------------+-----------------+\n",
      "only showing top 10 rows\n",
      "\n"
     ]
    }
   ],
   "source": [
    "df.show(n=10)"
   ]
  },
  {
   "cell_type": "code",
   "execution_count": 26,
   "id": "0893991d",
   "metadata": {},
   "outputs": [
    {
     "name": "stderr",
     "output_type": "stream",
     "text": [
      "[Stage 23:===========================================>              (6 + 2) / 8]\r"
     ]
    },
    {
     "name": "stdout",
     "output_type": "stream",
     "text": [
      "+-------+--------------------+--------------------+--------------------+--------------------+--------------------+------------------+------------------+\n",
      "|summary|            Headline|                Date|                Link|             Summary|             Article| __index_level_0__|    Article_length|\n",
      "+-------+--------------------+--------------------+--------------------+--------------------+--------------------+------------------+------------------+\n",
      "|  count|              105359|              105359|              105359|              105359|              105359|            105359|            105359|\n",
      "|   mean|                null|                null|                null|                null|                null| 53243.31900454636|2773.1103275467685|\n",
      "| stddev|                null|                null|                null|                null|                null|30733.590297559498|1837.7687900808983|\n",
      "|    min|\"A lot hangs\" on ...|Fri Apr 1, 2011 1...|http://www.reuter...|                    |                    |                 0|                 0|\n",
      "|    max|iTunes-like video...|Wed Sep 9, 2009 9...|http://www.reuter...| {\\rtf1\\ansi\\ansi...| {\\colortbl ;\\red...|            106493|             57887|\n",
      "+-------+--------------------+--------------------+--------------------+--------------------+--------------------+------------------+------------------+\n",
      "\n"
     ]
    },
    {
     "name": "stderr",
     "output_type": "stream",
     "text": [
      "                                                                                \r"
     ]
    }
   ],
   "source": [
    "from pyspark.sql.functions import length\n",
    "df = df.withColumn(\"Article_length\", length(\"Article\"))\n",
    "\n",
    "df.describe().show()"
   ]
  },
  {
   "cell_type": "code",
   "execution_count": 27,
   "id": "c933922b",
   "metadata": {},
   "outputs": [
    {
     "name": "stderr",
     "output_type": "stream",
     "text": [
      "/Users/cristianzuniga/Library/Python/3.10/lib/python/site-packages/seaborn/_oldcore.py:1119: FutureWarning: use_inf_as_na option is deprecated and will be removed in a future version. Convert inf values to NaN before operating instead.\n",
      "  with pd.option_context('mode.use_inf_as_na', True):\n"
     ]
    },
    {
     "data": {
      "text/plain": [
       "<Figure size 2400x600 with 0 Axes>"
      ]
     },
     "metadata": {},
     "output_type": "display_data"
    },
    {
     "data": {
      "image/png": "[encoded data removed]",
      "text/plain": [
       "<Figure size 640x480 with 2 Axes>"
      ]
     },
     "metadata": {},
     "output_type": "display_data"
    }
   ],
   "source": [
    "import seaborn as sn\n",
    "import matplotlib.pyplot as plt\n",
    "\n",
    "plt.figure(figsize=(24,6))\n",
    "\n",
    "fig, axs = plt.subplots(ncols=2)\n",
    "\n",
    "\n",
    "article_length_series = df.select(\"Article_length\").toPandas().squeeze()\n",
    "\n",
    "\n",
    "fig.suptitle('Distirbution of Reuter Article word length')\n",
    "\n",
    "sn.histplot(data=article_length_series, ax=axs[0])\n",
    "\n",
    "sn.boxplot(data=article_length_series, ax=axs[1])\n",
    "plt.tight_layout()\n",
    "plt.show()\n"
   ]
  },
  {
   "cell_type": "code",
   "execution_count": 28,
   "id": "b2640649",
   "metadata": {},
   "outputs": [
    {
     "name": "stdout",
     "output_type": "stream",
     "text": [
      "count    105359.000000\n",
      "mean       2773.110328\n",
      "std        1837.768790\n",
      "min           0.000000\n",
      "25%        1351.000000\n",
      "50%        2592.000000\n",
      "75%        3900.000000\n",
      "max       57887.000000\n",
      "Name: Article_length, dtype: float64\n",
      "\n",
      "Word skew: 1.9676235918977563\n",
      "Word kurtosis: 20.16400051063863\n",
      "IQR 2549.0\n"
     ]
    }
   ],
   "source": [
    "print(article_length_series.describe())\n",
    "\n",
    "print()\n",
    "print(f\"Word skew: {article_length_series.skew()}\")\n",
    "print(f\"Word kurtosis: {article_length_series.kurtosis()}\")\n",
    "print(f\"IQR {article_length_series.quantile(.75) - article_length_series.quantile(.25)}\")"
   ]
  },
  {
   "cell_type": "markdown",
   "id": "b4223c17",
   "metadata": {},
   "source": [
    "## (5/29/25)\n",
    "\n",
    "What I'm having issues with is how we can train the model on multiple datasets. We want our model to perform better as it consumes more data in the domain but we risk labels not having the same meaning across datasets. We need a way to remedy this before going forward.\n",
    "\n",
    "As for model evaluation as the number of datasets increases, we'll use the following methodology:\n",
    "1. Test model on test slice of previously trained dataset (could be randomly selected or not)\n",
    "2. Train model on particular dataset\n",
    "3. Reevaluate model based on test from previously trained dataset(s)\n",
    "4. Evaluate based on past performace. Did the model improve, did it get worse, any substantial changes?\n",
    "\n",
    "\n",
    "We know this type of model is possible because OpenAI implements it. However, their methodology and if the models are even tested for performance are unknown.\n",
    "\n",
    "[Implementation of FinBERT](https://arxiv.org/pdf/1908.10063)\n",
    "\n",
    "Can use the Paper above as a north star for training our model.\n",
    "\n",
    "### Plan:\n",
    "We can use the HuggingFace pretrained BERT, further pretrain it as a language model on the corpus above, and use the reuters dataset as our classification training/testing. \n",
    "We'll compare it to FinBERT based on the same metrics used in the paper above to see if we've achieved comparable or better results.\n"
   ]
  },
  {
   "cell_type": "markdown",
   "id": "b4e02436",
   "metadata": {},
   "source": [
    "### First step:\n",
    "\n",
    "We'll train BERT base on the Financial Text database and the Financial news database. We should expect that the distribution of the texts should be different, however we should expect them to be roughly the same length (we'll test this claim).\n",
    "\n",
    "For now, we'll keep the tweet dataset on the sideline. I'm having problems on how to devise a way to efficently implement training on both really long text and short text. I really value this dataset though, especially since [retail investors have shown to reach $1.5 billion in trading volume in a week](https://irlaw.umkc.edu/faculty_works/928/).\n",
    "\n",
    "(6/2/25) Update\n",
    "We need some way to truncate our text since most of our tokens will be over the 512 token limit required for BERT. We'll truncate the middle of the text and extract the 512 tokens and compare the results with a long range tokenizer like Longformer\n"
   ]
  },
  {
   "cell_type": "code",
   "execution_count": 29,
   "id": "0627e994",
   "metadata": {},
   "outputs": [],
   "source": [
    "tokenizer = LongformerTokenizer.from_pretrained(\"allenai/longformer-base-4096\")\n",
    "model = LongformerForMaskedLM.from_pretrained(\"allenai/longformer-base-4096\")\n"
   ]
  },
  {
   "cell_type": "code",
   "execution_count": 30,
   "id": "9f93277f",
   "metadata": {},
   "outputs": [],
   "source": [
    "text_sample = df.sample(False, .05).toPandas()\n",
    "text_sample = text_sample[text_sample['Article_length'] != 0].drop(columns=['__index_level_0__'])\n",
    "text_sample = Dataset.from_pandas(text_sample)\n",
    "text_sample = text_sample.flatten()\n"
   ]
  },
  {
   "cell_type": "code",
   "execution_count": 31,
   "id": "dda58703",
   "metadata": {},
   "outputs": [
    {
     "data": {
      "application/vnd.jupyter.widget-view+json": {
       "model_id": "764463ff18af431288db47b1b7d41ce9",
       "version_major": 2,
       "version_minor": 0
      },
      "text/plain": [
       "Map (num_proc=4):   0%|          | 0/5296 [00:00<?, ? examples/s]"
      ]
     },
     "metadata": {},
     "output_type": "display_data"
    }
   ],
   "source": [
    "def preprocess_function(examples):\n",
    "    return tokenizer([\" \".join(x) for x in examples[\"Article\"]])\n",
    "\n",
    "token_sample = text_sample.map(\n",
    "    preprocess_function,\n",
    "    batched=True,\n",
    "    num_proc=4,\n",
    "    remove_columns=text_sample.column_names\n",
    "    )"
   ]
  },
  {
   "cell_type": "code",
   "execution_count": 32,
   "id": "883cefb5",
   "metadata": {},
   "outputs": [
    {
     "ename": "ValueError",
     "evalue": "fp16 mixed precision requires a GPU (not 'mps').",
     "output_type": "error",
     "traceback": [
      "\u001b[0;31m---------------------------------------------------------------------------\u001b[0m",
      "\u001b[0;31mValueError\u001b[0m                                Traceback (most recent call last)",
      "Cell \u001b[0;32mIn[32], line 27\u001b[0m\n\u001b[1;32m      7\u001b[0m training_args \u001b[38;5;241m=\u001b[39m TrainingArguments(\n\u001b[1;32m      8\u001b[0m     output_dir\u001b[38;5;241m=\u001b[39m\u001b[38;5;124m\"\u001b[39m\u001b[38;5;124m./longformer-mlm\u001b[39m\u001b[38;5;124m\"\u001b[39m,\n\u001b[1;32m      9\u001b[0m     overwrite_output_dir\u001b[38;5;241m=\u001b[39m\u001b[38;5;28;01mTrue\u001b[39;00m,\n\u001b[0;32m   (...)\u001b[0m\n\u001b[1;32m     23\u001b[0m     report_to\u001b[38;5;241m=\u001b[39m\u001b[38;5;124m\"\u001b[39m\u001b[38;5;124mtensorboard\u001b[39m\u001b[38;5;124m\"\u001b[39m,\n\u001b[1;32m     24\u001b[0m )\n\u001b[1;32m     26\u001b[0m \u001b[38;5;66;03m# Trainer\u001b[39;00m\n\u001b[0;32m---> 27\u001b[0m trainer \u001b[38;5;241m=\u001b[39m \u001b[43mTrainer\u001b[49m\u001b[43m(\u001b[49m\n\u001b[1;32m     28\u001b[0m \u001b[43m    \u001b[49m\u001b[43mmodel\u001b[49m\u001b[38;5;241;43m=\u001b[39;49m\u001b[43mmodel\u001b[49m\u001b[43m,\u001b[49m\n\u001b[1;32m     29\u001b[0m \u001b[43m    \u001b[49m\u001b[43margs\u001b[49m\u001b[38;5;241;43m=\u001b[39;49m\u001b[43mtraining_args\u001b[49m\u001b[43m,\u001b[49m\n\u001b[1;32m     30\u001b[0m \u001b[43m    \u001b[49m\u001b[43mdata_collator\u001b[49m\u001b[38;5;241;43m=\u001b[39;49m\u001b[43mcollator\u001b[49m\u001b[43m,\u001b[49m\n\u001b[1;32m     31\u001b[0m \u001b[43m    \u001b[49m\u001b[43mtrain_dataset\u001b[49m\u001b[38;5;241;43m=\u001b[39;49m\u001b[43mtoken_sample\u001b[49m\u001b[43m,\u001b[49m\n\u001b[1;32m     32\u001b[0m \u001b[43m)\u001b[49m\n\u001b[1;32m     34\u001b[0m trainer\u001b[38;5;241m.\u001b[39mtrain()\n",
      "File \u001b[0;32m/opt/homebrew/lib/python3.10/site-packages/transformers/utils/deprecation.py:172\u001b[0m, in \u001b[0;36mdeprecate_kwarg.<locals>.wrapper.<locals>.wrapped_func\u001b[0;34m(*args, **kwargs)\u001b[0m\n\u001b[1;32m    168\u001b[0m \u001b[38;5;28;01melif\u001b[39;00m minimum_action \u001b[38;5;129;01min\u001b[39;00m (Action\u001b[38;5;241m.\u001b[39mNOTIFY, Action\u001b[38;5;241m.\u001b[39mNOTIFY_ALWAYS) \u001b[38;5;129;01mand\u001b[39;00m \u001b[38;5;129;01mnot\u001b[39;00m is_torchdynamo_compiling():\n\u001b[1;32m    169\u001b[0m     \u001b[38;5;66;03m# DeprecationWarning is ignored by default, so we use FutureWarning instead\u001b[39;00m\n\u001b[1;32m    170\u001b[0m     warnings\u001b[38;5;241m.\u001b[39mwarn(message, \u001b[38;5;167;01mFutureWarning\u001b[39;00m, stacklevel\u001b[38;5;241m=\u001b[39m\u001b[38;5;241m2\u001b[39m)\n\u001b[0;32m--> 172\u001b[0m \u001b[38;5;28;01mreturn\u001b[39;00m \u001b[43mfunc\u001b[49m\u001b[43m(\u001b[49m\u001b[38;5;241;43m*\u001b[39;49m\u001b[43margs\u001b[49m\u001b[43m,\u001b[49m\u001b[43m \u001b[49m\u001b[38;5;241;43m*\u001b[39;49m\u001b[38;5;241;43m*\u001b[39;49m\u001b[43mkwargs\u001b[49m\u001b[43m)\u001b[49m\n",
      "File \u001b[0;32m/opt/homebrew/lib/python3.10/site-packages/transformers/trainer.py:471\u001b[0m, in \u001b[0;36mTrainer.__init__\u001b[0;34m(self, model, args, data_collator, train_dataset, eval_dataset, processing_class, model_init, compute_loss_func, compute_metrics, callbacks, optimizers, optimizer_cls_and_kwargs, preprocess_logits_for_metrics)\u001b[0m\n\u001b[1;32m    469\u001b[0m \u001b[38;5;28mself\u001b[39m\u001b[38;5;241m.\u001b[39mis_in_train \u001b[38;5;241m=\u001b[39m \u001b[38;5;28;01mFalse\u001b[39;00m\n\u001b[1;32m    470\u001b[0m \u001b[38;5;28mself\u001b[39m\u001b[38;5;241m.\u001b[39mmodel \u001b[38;5;241m=\u001b[39m model\n\u001b[0;32m--> 471\u001b[0m \u001b[38;5;28;43mself\u001b[39;49m\u001b[38;5;241;43m.\u001b[39;49m\u001b[43mcreate_accelerator_and_postprocess\u001b[49m\u001b[43m(\u001b[49m\u001b[43m)\u001b[49m\n\u001b[1;32m    473\u001b[0m \u001b[38;5;66;03m# memory metrics - must set up as early as possible\u001b[39;00m\n\u001b[1;32m    474\u001b[0m \u001b[38;5;28mself\u001b[39m\u001b[38;5;241m.\u001b[39m_memory_tracker \u001b[38;5;241m=\u001b[39m TrainerMemoryTracker(\u001b[38;5;28mself\u001b[39m\u001b[38;5;241m.\u001b[39margs\u001b[38;5;241m.\u001b[39mskip_memory_metrics)\n",
      "File \u001b[0;32m/opt/homebrew/lib/python3.10/site-packages/transformers/trainer.py:5176\u001b[0m, in \u001b[0;36mTrainer.create_accelerator_and_postprocess\u001b[0;34m(self)\u001b[0m\n\u001b[1;32m   5173\u001b[0m         \u001b[38;5;28;01mraise\u001b[39;00m \u001b[38;5;167;01mValueError\u001b[39;00m(\u001b[38;5;124m\"\u001b[39m\u001b[38;5;124mRequires accelerate>1.3.0 to use Tensor Parallelism.\u001b[39m\u001b[38;5;124m\"\u001b[39m)\n\u001b[1;32m   5175\u001b[0m \u001b[38;5;66;03m# create accelerator object\u001b[39;00m\n\u001b[0;32m-> 5176\u001b[0m \u001b[38;5;28mself\u001b[39m\u001b[38;5;241m.\u001b[39maccelerator \u001b[38;5;241m=\u001b[39m \u001b[43mAccelerator\u001b[49m\u001b[43m(\u001b[49m\u001b[38;5;241;43m*\u001b[39;49m\u001b[38;5;241;43m*\u001b[39;49m\u001b[43margs\u001b[49m\u001b[43m)\u001b[49m\n\u001b[1;32m   5177\u001b[0m \u001b[38;5;66;03m# some Trainer classes need to use `gather` instead of `gather_for_metrics`, thus we store a flag\u001b[39;00m\n\u001b[1;32m   5178\u001b[0m \u001b[38;5;28mself\u001b[39m\u001b[38;5;241m.\u001b[39mgather_function \u001b[38;5;241m=\u001b[39m \u001b[38;5;28mself\u001b[39m\u001b[38;5;241m.\u001b[39maccelerator\u001b[38;5;241m.\u001b[39mgather_for_metrics\n",
      "File \u001b[0;32m/opt/homebrew/lib/python3.10/site-packages/accelerate/accelerator.py:547\u001b[0m, in \u001b[0;36mAccelerator.__init__\u001b[0;34m(self, device_placement, split_batches, mixed_precision, gradient_accumulation_steps, cpu, dataloader_config, deepspeed_plugin, fsdp_plugin, torch_tp_plugin, megatron_lm_plugin, rng_types, log_with, project_dir, project_config, gradient_accumulation_plugin, step_scheduler_with_optimizer, kwargs_handlers, dynamo_backend, dynamo_plugin, deepspeed_plugins)\u001b[0m\n\u001b[1;32m    536\u001b[0m \u001b[38;5;28mself\u001b[39m\u001b[38;5;241m.\u001b[39mnative_amp \u001b[38;5;241m=\u001b[39m \u001b[38;5;28;01mTrue\u001b[39;00m\n\u001b[1;32m    537\u001b[0m \u001b[38;5;28;01mif\u001b[39;00m \u001b[38;5;28mself\u001b[39m\u001b[38;5;241m.\u001b[39mdevice\u001b[38;5;241m.\u001b[39mtype \u001b[38;5;129;01mnot\u001b[39;00m \u001b[38;5;129;01min\u001b[39;00m (\n\u001b[1;32m    538\u001b[0m     \u001b[38;5;124m\"\u001b[39m\u001b[38;5;124mxpu\u001b[39m\u001b[38;5;124m\"\u001b[39m,\n\u001b[1;32m    539\u001b[0m     \u001b[38;5;124m\"\u001b[39m\u001b[38;5;124mcuda\u001b[39m\u001b[38;5;124m\"\u001b[39m,\n\u001b[0;32m   (...)\u001b[0m\n\u001b[1;32m    545\u001b[0m     \u001b[38;5;124m\"\u001b[39m\u001b[38;5;124msdaa\u001b[39m\u001b[38;5;124m\"\u001b[39m,\n\u001b[1;32m    546\u001b[0m ) \u001b[38;5;129;01mor\u001b[39;00m is_torch_xla_available(check_is_tpu\u001b[38;5;241m=\u001b[39m\u001b[38;5;28;01mTrue\u001b[39;00m):\n\u001b[0;32m--> 547\u001b[0m     \u001b[38;5;28;01mraise\u001b[39;00m \u001b[38;5;167;01mValueError\u001b[39;00m(\u001b[38;5;124mf\u001b[39m\u001b[38;5;124m\"\u001b[39m\u001b[38;5;124mfp16 mixed precision requires a GPU (not \u001b[39m\u001b[38;5;132;01m{\u001b[39;00m\u001b[38;5;28mself\u001b[39m\u001b[38;5;241m.\u001b[39mdevice\u001b[38;5;241m.\u001b[39mtype\u001b[38;5;132;01m!r}\u001b[39;00m\u001b[38;5;124m).\u001b[39m\u001b[38;5;124m\"\u001b[39m)\n\u001b[1;32m    548\u001b[0m kwargs \u001b[38;5;241m=\u001b[39m \u001b[38;5;28mself\u001b[39m\u001b[38;5;241m.\u001b[39mscaler_handler\u001b[38;5;241m.\u001b[39mto_kwargs() \u001b[38;5;28;01mif\u001b[39;00m \u001b[38;5;28mself\u001b[39m\u001b[38;5;241m.\u001b[39mscaler_handler \u001b[38;5;129;01mis\u001b[39;00m \u001b[38;5;129;01mnot\u001b[39;00m \u001b[38;5;28;01mNone\u001b[39;00m \u001b[38;5;28;01melse\u001b[39;00m {}\n\u001b[1;32m    550\u001b[0m \u001b[38;5;66;03m# FSDP2 doesn't use ShardedGradScaler, don't want to modify `get_grad_scaler`, rather create a simple utility\u001b[39;00m\n",
      "\u001b[0;31mValueError\u001b[0m: fp16 mixed precision requires a GPU (not 'mps')."
     ]
    }
   ],
   "source": [
    "\n",
    "collator = DataCollatorForLanguageModeling(\n",
    "    tokenizer=tokenizer,\n",
    "    mlm=True,\n",
    "    mlm_probability=0.15\n",
    ")\n",
    "# Training Arguments\n",
    "training_args = TrainingArguments(\n",
    "    output_dir=\"./longformer-mlm\",\n",
    "    overwrite_output_dir=True,\n",
    "    num_train_epochs=3,\n",
    "    per_device_train_batch_size=2,  # Adjust based on GPU memory\n",
    "    gradient_accumulation_steps=8,\n",
    "    learning_rate=5e-5,\n",
    "    weight_decay=0.01,\n",
    "    warmup_steps=500,\n",
    "    logging_dir=\"./logs\",\n",
    "    logging_steps=100,\n",
    "    save_steps=10_000,\n",
    "    save_total_limit=2,\n",
    "    fp16=True,  # Only if GPU supports it (Ampere/V100+)\n",
    "    dataloader_num_workers=4,\n",
    "    max_grad_norm=1.0,\n",
    "    report_to=\"tensorboard\",\n",
    ")\n",
    "\n",
    "# Trainer\n",
    "trainer = Trainer(\n",
    "    model=model,\n",
    "    args=training_args,\n",
    "    data_collator=collator,\n",
    "    train_dataset=token_sample,\n",
    ")\n",
    "\n",
    "trainer.train()"
   ]
  },
  {
   "cell_type": "code",
   "execution_count": null,
   "id": "05c60ab4",
   "metadata": {},
   "outputs": [],
   "source": []
  }
 ],
 "metadata": {
  "kernelspec": {
   "display_name": "Python 3",
   "language": "python",
   "name": "python3"
  },
  "language_info": {
   "codemirror_mode": {
    "name": "ipython",
    "version": 3
   },
   "file_extension": ".py",
   "mimetype": "text/x-python",
   "name": "python",
   "nbconvert_exporter": "python",
   "pygments_lexer": "ipython3",
   "version": "3.10.17"
  }
 },
 "nbformat": 4,
 "nbformat_minor": 5
}
