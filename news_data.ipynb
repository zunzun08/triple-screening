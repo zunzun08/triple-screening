{
 "cells": [
  {
   "cell_type": "code",
   "execution_count": 6,
   "id": "5f448925",
   "metadata": {},
   "outputs": [],
   "source": [
    "from pyspark.sql import SparkSession\n",
    "from pyspark import SparkContext\n",
    "from pyspark import SparkFiles\n",
    "import pandas as pd\n",
    "import numpy as np\n",
    "from transformers import BertTokenizer, AutoTokenizer\n",
    "import seaborn as sn\n",
    "import matplotlib.pyplot as plt\n",
    "from datasets import Dataset\n",
    "from datasets import load_dataset\n",
    "from pyspark.sql import SparkSession\n",
    "from pyspark.sql.functions import length\n"
   ]
  },
  {
   "cell_type": "code",
   "execution_count": 2,
   "id": "420065e3",
   "metadata": {},
   "outputs": [],
   "source": [
    "import os\n",
    "import sys\n",
    "from dotenv import load_dotenv\n",
    "\n",
    "#For Desktop \n",
    "os.environ['PYSPARK_PYTHON'] = sys.executable\n",
    "os.environ['PYSPARK_DRIVER_PYTHON'] = sys.executable\n",
    "\n",
    "from huggingface_hub import login\n",
    "\n",
    "#For Desktop\n",
    "login(token=os.getenv(\"HF_MASTER_KEY\"))\n",
    "\n",
    "#For Macbook\n",
    "#load_dotenv()\n",
    "#login(token=os.getenv(\"MACBOOK_HF_KEY\"))\n",
    "\n",
    "# Clear conflicting environment variables\n",
    "#if 'PYTHONPATH' in os.environ:\n",
    "    #del os.environ['PYTHONPATH']\n",
    "\n"
   ]
  },
  {
   "cell_type": "code",
   "execution_count": 3,
   "id": "0849b7a3",
   "metadata": {},
   "outputs": [
    {
     "name": "stderr",
     "output_type": "stream",
     "text": [
      "----------------------------------------\n",
      "Exception occurred during processing of request from ('127.0.0.1', 61201)\n",
      "Traceback (most recent call last):\n",
      "  File \"c:\\Users\\Omar\\AppData\\Local\\Programs\\Python\\Python310\\lib\\socketserver.py\", line 316, in _handle_request_noblock\n",
      "    self.process_request(request, client_address)\n",
      "  File \"c:\\Users\\Omar\\AppData\\Local\\Programs\\Python\\Python310\\lib\\socketserver.py\", line 347, in process_request\n",
      "    self.finish_request(request, client_address)\n",
      "  File \"c:\\Users\\Omar\\AppData\\Local\\Programs\\Python\\Python310\\lib\\socketserver.py\", line 360, in finish_request\n",
      "    self.RequestHandlerClass(request, client_address, self)\n",
      "  File \"c:\\Users\\Omar\\AppData\\Local\\Programs\\Python\\Python310\\lib\\socketserver.py\", line 747, in __init__\n",
      "    self.handle()\n",
      "  File \"C:\\spark\\spark-3.5.6-bin-hadoop3\\python\\pyspark\\accumulators.py\", line 295, in handle\n",
      "    poll(accum_updates)\n",
      "  File \"C:\\spark\\spark-3.5.6-bin-hadoop3\\python\\pyspark\\accumulators.py\", line 267, in poll\n",
      "    if self.rfile in r and func():\n",
      "  File \"C:\\spark\\spark-3.5.6-bin-hadoop3\\python\\pyspark\\accumulators.py\", line 271, in accum_updates\n",
      "    num_updates = read_int(self.rfile)\n",
      "  File \"C:\\spark\\spark-3.5.6-bin-hadoop3\\python\\pyspark\\serializers.py\", line 594, in read_int\n",
      "    length = stream.read(4)\n",
      "  File \"c:\\Users\\Omar\\AppData\\Local\\Programs\\Python\\Python310\\lib\\socket.py\", line 705, in readinto\n",
      "    return self._sock.recv_into(b)\n",
      "ConnectionResetError: [WinError 10054] An existing connection was forcibly closed by the remote host\n",
      "----------------------------------------\n"
     ]
    }
   ],
   "source": [
    "from pyspark.sql import SparkSession\n",
    "from datasets import load_dataset\n",
    "import pandas as pd\n",
    "\n",
    "# Test run with Reuters and Ashraq financial news dataset\n",
    "reuters_spark = SparkSession.builder.appName(\"ReutersNews\").getOrCreate()\n",
    "finnews_spark = SparkSession.builder.appName('FinNews').getOrCreate()\n",
    "\n",
    "# Dictionary mapping spark sessions to dataset names\n",
    "spark_dataset_mapping = {\n",
    "    reuters_spark: \"danidanou/Reuters_Financial_News\",\n",
    "    finnews_spark: \"ashraq/financial-news-articles\"\n",
    "}\n",
    "\n",
    "def ds_to_spark(spark_session, dataset_name, dataset_size=10000):\n",
    "    \"\"\"\n",
    "    Convert a HuggingFace dataset to a Spark DataFrame\n",
    "    \n",
    "    Args:\n",
    "        spark_session: Active Spark session\n",
    "        dataset_name: HuggingFace dataset name/path\n",
    "        dataset_size: Number of rows to load (default: 10000)\n",
    "    \n",
    "    Returns:\n",
    "        Spark DataFrame or None if failed\n",
    "    \"\"\"\n",
    "    from pyspark.sql.types import StructType, StructField, StringType\n",
    "    \n",
    "    print(f\"Loading dataset: {dataset_name}\")\n",
    "    \n",
    "    try:\n",
    "        # Load HuggingFace dataset with size limit\n",
    "        hf_df = load_dataset(dataset_name, split=f'train[:{dataset_size}]')\n",
    "        \n",
    "        # Convert to pandas\n",
    "        pd_df = hf_df.to_pandas()\n",
    "        \n",
    "        print(f\"DF shape: {pd_df.shape}\")\n",
    "        \n",
    "        # Check and clean columns\n",
    "        for col in pd_df.columns:\n",
    "            if pd_df[col].dtype == 'object':\n",
    "                # Get a sample of non-null values\n",
    "                non_null_values = pd_df[col].dropna()\n",
    "                \n",
    "                if len(non_null_values) > 0:\n",
    "                    # Check the first few values to determine type\n",
    "                    sample_value = non_null_values.iloc[0]\n",
    "                    \n",
    "                    if isinstance(sample_value, (list, dict)):\n",
    "                        # Convert complex types to string\n",
    "                        pd_df[col] = pd_df[col].apply(lambda x: str(x) if x is not None else \"\")\n",
    "                        print(f\"Converted col '{col}' to string\")\n",
    "        \n",
    "        # Fill null values\n",
    "        pd_df = pd_df.fillna(\"\")\n",
    "        \n",
    "        try:\n",
    "            # Convert pandas DataFrame to list of Row objects for compatibility\n",
    "            records = pd_df.to_dict('records')\n",
    "            spark_df = spark_session.createDataFrame(records)\n",
    "            print(f\"Successfully created Spark DataFrame for {dataset_name}\")\n",
    "            print(\"Schema:\")\n",
    "            spark_df.printSchema()\n",
    "            return spark_df\n",
    "            \n",
    "        except Exception as e:\n",
    "            print(f\"Error creating DataFrame for {dataset_name}: {e}\")\n",
    "            \n",
    "            # Alternative approach: Define explicit schema and use records\n",
    "            print(\"Trying with explicit string schema and records conversion...\")\n",
    "            \n",
    "            try:\n",
    "                # Create schema with all string types\n",
    "                string_schema = StructType([\n",
    "                    StructField(col, StringType(), True) for col in pd_df.columns\n",
    "                ])\n",
    "                \n",
    "                # Convert all columns to string\n",
    "                pd_df_str = pd_df.astype(str)\n",
    "                \n",
    "                # Convert to records format\n",
    "                records = pd_df_str.to_dict('records')\n",
    "                \n",
    "                # Create Spark DataFrame with explicit schema\n",
    "                spark_df = spark_session.createDataFrame(records, schema=string_schema)\n",
    "                print(f\"Successfully created Spark DataFrame with string schema for {dataset_name}\")\n",
    "                print(\"Schema:\")\n",
    "                spark_df.printSchema()\n",
    "                return spark_df\n",
    "                \n",
    "            except Exception as e2:\n",
    "                print(f\"Failed even with string schema and records: {e2}\")\n",
    "                \n",
    "                # Last resort: Manual row creation\n",
    "                print(\"Trying manual row creation...\")\n",
    "                try:\n",
    "                    from pyspark.sql import Row\n",
    "                    \n",
    "                    # Create Row objects manually\n",
    "                    Row = Row(*pd_df.columns)\n",
    "                    rows = [Row(*[str(val) for val in row]) for row in pd_df.values]\n",
    "                    \n",
    "                    spark_df = spark_session.createDataFrame(rows)\n",
    "                    print(f\"Successfully created Spark DataFrame with manual row creation for {dataset_name}\")\n",
    "                    print(\"Schema:\")\n",
    "                    spark_df.printSchema()\n",
    "                    return spark_df\n",
    "                    \n",
    "                except Exception as e3:\n",
    "                    print(f\"All methods failed for {dataset_name}: {e3}\")\n",
    "                    return None\n",
    "    \n",
    "    except Exception as e:\n",
    "        print(f\"Error loading dataset {dataset_name}: {e}\")\n",
    "        return None\n",
    "\n"
   ]
  },
  {
   "cell_type": "code",
   "execution_count": 28,
   "id": "694ee32f",
   "metadata": {},
   "outputs": [
    {
     "name": "stdout",
     "output_type": "stream",
     "text": [
      "<class 'pandas.core.frame.DataFrame'>\n",
      "RangeIndex: 411601 entries, 0 to 411600\n",
      "Data columns (total 4 columns):\n",
      " #   Column       Non-Null Count   Dtype \n",
      "---  ------       --------------   ----- \n",
      " 0   title        411601 non-null  object\n",
      " 1   url          411601 non-null  object\n",
      " 2   text         411601 non-null  object\n",
      " 3   text_length  411601 non-null  int64 \n",
      "dtypes: int64(1), object(3)\n",
      "memory usage: 12.6+ MB\n"
     ]
    }
   ],
   "source": [
    "from datasets import load_dataset\n",
    "reuters_df = load_dataset(\"danidanou/Reuters_Financial_News\")['train'].to_pandas()\n",
    "finnews_df = load_dataset(\"ashraq/financial-news-articles\")['train'].to_pandas()\n",
    "\n",
    "reuters_df = reuters_df.rename(columns={\n",
    "    'Article': 'text',\n",
    "    'Link': 'url',\n",
    "    'Headline': 'title'\n",
    "    })\n",
    "\n",
    "reuters_df = reuters_df.drop(columns=['Journalists', 'Date', '__index_level_0__', 'Summary'])\n",
    "\n",
    "#Merging the df\n",
    "merged_df = pd.concat([reuters_df, finnews_df])\n",
    "\n",
    "#Shuffling the rows\n",
    "merged_df = merged_df.sample(frac=1).reset_index(drop=True)\n",
    "\n",
    "\n",
    "\n",
    "\n",
    "merged_df['text_length'] = merged_df['text'].apply(lambda text: len(text))\n",
    "merged_df.info()"
   ]
  },
  {
   "cell_type": "code",
   "execution_count": 31,
   "id": "a772ff80",
   "metadata": {},
   "outputs": [
    {
     "data": {
      "text/plain": [
       "0    May 11, 2018 / 5:43 PM / Updated an hour ago U...\n",
       "1    JOHANNESBURG (Reuters) - South Africa’s ruling...\n",
       "2     \"The European Council underlines the need to ...\n",
       "3    March 7 (Reuters) - Hub International Ltd:\\n* ...\n",
       "4    March 6 (Reuters) - Kimura Co Ltd\\n* Says it w...\n",
       "5     The company also said the World Trade Organiz...\n",
       "6    January 16, 2018 / 8:13 PM / Updated 23 minute...\n",
       "7    Jan 17 (Reuters) - Pros Holdings Inc:\\n* CONES...\n",
       "8    Feb 8 (Reuters) - Page Industries Ltd:\\n* DEC ...\n",
       "9    JERSEY CITY, N.J., Feb. 22, 2018 (GLOBE NEWSWI...\n",
       "Name: text, dtype: object"
      ]
     },
     "execution_count": 31,
     "metadata": {},
     "output_type": "execute_result"
    }
   ],
   "source": [
    "merged_df.text.head(10)"
   ]
  },
  {
   "cell_type": "code",
   "execution_count": null,
   "id": "34107ee1",
   "metadata": {},
   "outputs": [
    {
     "name": "stdout",
     "output_type": "stream",
     "text": [
      "Loading dataset: danidanou/Reuters_Financial_News\n",
      "DF shape: (30000, 7)\n",
      "Error creating DataFrame for danidanou/Reuters_Financial_News: [CANNOT_INFER_TYPE_FOR_FIELD] Unable to infer the type of the field `Journalists`.\n",
      "Trying with explicit string schema and records conversion...\n",
      "Successfully created Spark DataFrame with string schema for danidanou/Reuters_Financial_News\n",
      "Schema:\n",
      "root\n",
      " |-- Headline: string (nullable = true)\n",
      " |-- Journalists: string (nullable = true)\n",
      " |-- Date: string (nullable = true)\n",
      " |-- Link: string (nullable = true)\n",
      " |-- Summary: string (nullable = true)\n",
      " |-- Article: string (nullable = true)\n",
      " |-- __index_level_0__: string (nullable = true)\n",
      "\n",
      "Loading dataset: ashraq/financial-news-articles\n",
      "DF shape: (30000, 3)\n",
      "Successfully created Spark DataFrame for ashraq/financial-news-articles\n",
      "Schema:\n",
      "root\n",
      " |-- text: string (nullable = true)\n",
      " |-- title: string (nullable = true)\n",
      " |-- url: string (nullable = true)\n",
      "\n",
      "Reuters dataset loaded successfully\n",
      "+--------------------+------------------+--------------------+--------------------+--------------------+--------------------+-----------------+\n",
      "|            Headline|       Journalists|                Date|                Link|             Summary|             Article|__index_level_0__|\n",
      "+--------------------+------------------+--------------------+--------------------+--------------------+--------------------+-----------------+\n",
      "|Hitachi, GE boost...|              ['']|Mon Nov 13, 2006 ...|http://www.reuter...| TOKYO - Hitachi ...| The move comes a...|                0|\n",
      "|Volvo to cut 1,00...|              ['']|Mon Nov 13, 2006 ...|http://www.reuter...| STOCKHOLM - Truc...| After years of s...|                1|\n",
      "|European banks hi...|  ['Andrew Hurst']|Mon Nov 13, 2006 ...|http://www.reuter...| ZURICH, Nov 13 (...| Since adopting I...|                2|\n",
      "|Hitachi, GE to fo...|['Mayumi Negishi']|Mon Nov 13, 2006 ...|http://www.reuter...| TOKYO - Japan's ...| The partnership ...|                3|\n",
      "|Eddie Bauer agree...|              ['']|Mon Nov 13, 2006 ...|http://www.reuter...| - Eddie Bauer Ho...| The cash deal is...|                4|\n",
      "+--------------------+------------------+--------------------+--------------------+--------------------+--------------------+-----------------+\n",
      "only showing top 5 rows\n",
      "\n",
      "Financial News dataset loaded successfully\n",
      "+--------------------+--------------------+--------------------+\n",
      "|                text|               title|                 url|\n",
      "+--------------------+--------------------+--------------------+\n",
      "|January 2, 2018 /...|BRIEF-Bigger Capi...|https://www.reute...|\n",
      "|NEW YORK (Reuters...|Global Markets: A...|https://in.reuter...|\n",
      "|Fears of a govern...|Donald Trump is t...|https://www.cnbc....|\n",
      "| 03 PM / Updated ...|Actor Casey Affle...|https://www.reute...|\n",
      "|January 22, 2018 ...|EU mulls new link...|https://uk.reuter...|\n",
      "+--------------------+--------------------+--------------------+\n",
      "only showing top 5 rows\n",
      "\n"
     ]
    }
   ],
   "source": [
    "#reuters_df = ds_to_spark(reuters_spark, \"danidanou/Reuters_Financial_News\", 30000)\n",
    "#finnews_df = ds_to_spark(finnews_spark, \"ashraq/financial-news-articles\", 30000)\n",
    "\n",
    "# Check if successful\n",
    "#if reuters_df:\n",
    "    #print(\"Reuters dataset loaded successfully\")\n",
    "    #reuters_df.show(5)\n",
    "\n",
    "#if finnews_df:\n",
    "    #print(\"Financial News dataset loaded successfully\") \n",
    "    #finnews_df.show(5)"
   ]
  },
  {
   "cell_type": "code",
   "execution_count": 25,
   "id": "6b0e54f1",
   "metadata": {},
   "outputs": [
    {
     "data": {
      "text/plain": [
       "<Figure size 2400x600 with 0 Axes>"
      ]
     },
     "metadata": {},
     "output_type": "display_data"
    },
    {
     "data": {
      "image/png": "[encoded data removed]",
      "text/plain": [
       "<Figure size 640x480 with 2 Axes>"
      ]
     },
     "metadata": {},
     "output_type": "display_data"
    }
   ],
   "source": [
    "\n",
    "plt.figure(figsize=(24,6))\n",
    "\n",
    "fig, axs = plt.subplots(ncols=2)\n",
    "\n",
    "\n",
    "\n",
    "fig.suptitle('Distirbution of News Article word length')\n",
    "\n",
    "sn.histplot(data=merged_df['text_length'], ax=axs[0])\n",
    "\n",
    "sn.boxplot(data=merged_df['text_length'], ax=axs[1])\n",
    "plt.tight_layout()\n",
    "plt.show()"
   ]
  },
  {
   "cell_type": "code",
   "execution_count": 29,
   "id": "44ae5374",
   "metadata": {},
   "outputs": [
    {
     "data": {
      "text/plain": [
       "count    411601.000000\n",
       "mean       2606.701626\n",
       "std        4176.968322\n",
       "min           0.000000\n",
       "25%         534.000000\n",
       "50%        1786.000000\n",
       "75%        3293.000000\n",
       "max      218108.000000\n",
       "Name: text_length, dtype: float64"
      ]
     },
     "execution_count": 29,
     "metadata": {},
     "output_type": "execute_result"
    }
   ],
   "source": [
    "merged_df[\"text_length\"].describe()"
   ]
  },
  {
   "cell_type": "code",
   "execution_count": 33,
   "id": "cd1c76e6",
   "metadata": {},
   "outputs": [],
   "source": [
    "#We'll do 3 methods the first will be to take the first 512 words of an article (if it has it), combine into a column for a dataframe\n",
    "#The second method will be to take the middle 512 words (if available) of an article and combine into a column\n",
    "#The third will be to take the first 2000 words of an article, combine into a column \n",
    "\n",
    "from pyspark.sql.functions import substring, col, expr\n",
    "from pyspark.sql.types import IntegerType\n",
    "\n",
    "\n",
    "\n",
    "#Method one\n",
    "first_512_df = merged_df[merged_df['text_length'] >= 512]\n",
    "\n",
    "#Method two\n",
    "\n",
    "#Making a function to define middle of column\n",
    "\n",
    "middle_512_df = merged_df['text'].apply(\n",
    "    lambda text: text[int((len(text) - 512) / 2):int(len(text) - (len(text) - 512) / 2)]\n",
    ")\n",
    "\n",
    "#Third_method\n",
    "first_4096_df = merged_df[merged_df[\"text_length\"] >= 4096]\n",
    "\n",
    "\n",
    "\n"
   ]
  },
  {
   "cell_type": "code",
   "execution_count": 34,
   "id": "3f247ed9",
   "metadata": {},
   "outputs": [],
   "source": [
    "#The third method will feed into a longform tranfsformer for pretraining\n",
    "#The second method and first method will feed into a DistilBERT for pretraining\n",
    "#We'll use a one lstm that will train on the first 512 words (benchmark, to be added later)\n",
    "\n",
    "\n",
    "#Bert tokenizer\n",
    "\n",
    "bert_tokenizer = AutoTokenizer.from_pretrained('distilbert/distilbert-base-uncased')\n",
    "lf_tokenizer = AutoTokenizer.from_pretrained('distilbert/distilbert-base-uncased')\n"
   ]
  },
  {
   "cell_type": "markdown",
   "id": "a53a9f12",
   "metadata": {},
   "source": [
    "(06/17/25)\n",
    "The step below could use optimzation "
   ]
  },
  {
   "cell_type": "code",
   "execution_count": 37,
   "id": "2bd3c365",
   "metadata": {},
   "outputs": [
    {
     "data": {
      "text/plain": [
       "{'first_512':                                                     title  \\\n",
       " 0       English County Championship Division Two Score...   \n",
       " 1       South Africa's ANC gives Zuma 48 hours to resi...   \n",
       " 2       EU leaders to urge fast work on EU budget rule...   \n",
       " 5       Boeing blasts EADS effort to extend tanker dea...   \n",
       " 6       'The Fakeys': Comedians turn tables on Trump's...   \n",
       " ...                                                   ...   \n",
       " 411592                                     World Rankings   \n",
       " 411594  Cricket-Morgan hopes ball-tampering bans will ...   \n",
       " 411597      SEC may seek more disclosure by credit raters   \n",
       " 411598  Apple battles U.S. over scope of e-books injun...   \n",
       " 411599  Argentina defends ties with China, Russia desp...   \n",
       " \n",
       "                                                       url  \\\n",
       " 0       https://in.reuters.com/article/cricket-england...   \n",
       " 1       https://www.reuters.com/article/us-safrica-pol...   \n",
       " 2       http://www.reuters.com/article/2010/09/11/us-e...   \n",
       " 5       http://www.reuters.com/article/2010/04/01/us-b...   \n",
       " 6       https://uk.reuters.com/article/uk-usa-trump-me...   \n",
       " ...                                                   ...   \n",
       " 411592  https://in.reuters.com/article/golf-world-rank...   \n",
       " 411594  https://uk.reuters.com/article/uk-cricket-aust...   \n",
       " 411597  http://www.reuters.com/article/2008/02/08/us-c...   \n",
       " 411598  http://www.reuters.com/article/2013/08/23/net-...   \n",
       " 411599  https://www.reuters.com/article/us-argentina-u...   \n",
       " \n",
       "                                                      text  text_length  \n",
       " 0       May 11, 2018 / 5:43 PM / Updated an hour ago U...         1415  \n",
       " 1       JOHANNESBURG (Reuters) - South Africa’s ruling...          540  \n",
       " 2        \"The European Council underlines the need to ...         2243  \n",
       " 5        The company also said the World Trade Organiz...         1670  \n",
       " 6       January 16, 2018 / 8:13 PM / Updated 23 minute...         3175  \n",
       " ...                                                   ...          ...  \n",
       " 411592  May 21, 2018 / 2:11 PM / Updated 2 hours ago W...         1059  \n",
       " 411594  April 5, 2018 / 6:30 AM / Updated 7 hours ago ...         2081  \n",
       " 411597   Chairman Christopher Cox's comments came as c...         1854  \n",
       " 411598   At issue is how to ensure that Apple does not...         3277  \n",
       " 411599  BUENOS AIRES (Reuters) - Argentina said on Thu...         1937  \n",
       " \n",
       " [314651 rows x 4 columns],\n",
       " 'middle_512': 0         chant de Lange 14 Ateeq Javid c Chris Cooke b ...\n",
       " 1         Reuters) - South Africa’s ruling African Natio...\n",
       " 2         gthen fiscal discipline in the bloc and preven...\n",
       " 3         OKERS LTD.\\n* HUB INTERNATIONAL LTD - ‍TERMS O...\n",
       " 4         in Japanese: goo.gl/75yVb7\\nFurther company co...\n",
       "                                 ...                        \n",
       " 411596                          out Trump's Next Trade Move\n",
       " 411597     debt instruments. He said requiring credit ra...\n",
       " 411598    did anything wrong warranted tough medicine. \"...\n",
       " 411599    ic Relations Horacio Reyser told Reuters.\\nChi...\n",
       " 411600           fixtures (GMT) Brumbies v Jaguares (05:05)\n",
       " Name: text, Length: 411601, dtype: object,\n",
       " 'first_4096':                                                     title  \\\n",
       " 9       Bel Reports Fourth Quarter and Full Year 2017 ...   \n",
       " 10      Q+A: What is Fed weighing as it mulls more eas...   \n",
       " 16          U.S. banks rally ahead of stress test results   \n",
       " 30      Strongbridge Biopharma plc Reports Full-Year 2...   \n",
       " 33        Housing, price data points to sluggish recovery   \n",
       " ...                                                   ...   \n",
       " 411550  EBay to cut jobs, sees revs at low end, shares...   \n",
       " 411555  Perfect storm: China's blizzard exposes flaws ...   \n",
       " 411556  First Trust Intermediate Duration Preferred & ...   \n",
       " 411564     Emerging powers join forces for finance reform   \n",
       " 411573  UK's May faces local election losses as key Br...   \n",
       " \n",
       "                                                       url  \\\n",
       " 9       http://www.cnbc.com/2018/02/22/globe-newswire-...   \n",
       " 10      http://www.reuters.com/article/2011/08/09/us-u...   \n",
       " 16      http://www.reuters.com/article/2009/05/07/us-f...   \n",
       " 30      http://www.cnbc.com/2018/03/12/globe-newswire-...   \n",
       " 33      http://www.reuters.com/article/2009/10/21/us-u...   \n",
       " ...                                                   ...   \n",
       " 411550  http://www.reuters.com/article/2008/10/06/us-e...   \n",
       " 411555  https://uk.reuters.com/article/us-china-weathe...   \n",
       " 411556  http://www.cnbc.com/2018/02/20/business-wire-f...   \n",
       " 411564  http://www.reuters.com/article/2008/11/07/us-f...   \n",
       " 411573  https://www.reuters.com/article/britain-politi...   \n",
       " \n",
       "                                                      text  text_length  \n",
       " 9       JERSEY CITY, N.J., Feb. 22, 2018 (GLOBE NEWSWI...        27457  \n",
       " 10       Even though employers added a surprisingly he...         5569  \n",
       " 16       The results of government stress tests of the...         4389  \n",
       " 30      ~ KEVEYIS ® (dichlorphenamide) Fourth Quarter ...        23526  \n",
       " 33       A Commerce Department report on Tuesday showe...         4699  \n",
       " ...                                                   ...          ...  \n",
       " 411550   Shares of eBay fell by as much as 12 percent ...         4659  \n",
       " 411555  February 3, 2018 / 6:35 AM / Updated 9 hours a...         5038  \n",
       " 411556  WHEATON, Ill.--(BUSINESS WIRE)-- First Trust I...         5947  \n",
       " 411564   The \"BRIC\" nations of Brazil, Russia, India a...         4265  \n",
       " 411573  LONDON, May 3 (Reuters) - Voters will pass jud...         4455  \n",
       " \n",
       " [67030 rows x 4 columns]}"
      ]
     },
     "execution_count": 37,
     "metadata": {},
     "output_type": "execute_result"
    }
   ],
   "source": [
    "datasets_pd"
   ]
  },
  {
   "cell_type": "code",
   "execution_count": null,
   "id": "948ddca4",
   "metadata": {},
   "outputs": [
    {
     "ename": "KeyError",
     "evalue": "'text'",
     "output_type": "error",
     "traceback": [
      "\u001b[1;31m---------------------------------------------------------------------------\u001b[0m",
      "\u001b[1;31mKeyError\u001b[0m                                  Traceback (most recent call last)",
      "Cell \u001b[1;32mIn[38], line 11\u001b[0m\n\u001b[0;32m      1\u001b[0m datasets_pd \u001b[38;5;241m=\u001b[39m {\n\u001b[0;32m      2\u001b[0m     \u001b[38;5;124m'\u001b[39m\u001b[38;5;124mfirst_512\u001b[39m\u001b[38;5;124m'\u001b[39m: first_512_df,\n\u001b[0;32m      3\u001b[0m     \u001b[38;5;124m'\u001b[39m\u001b[38;5;124mmiddle_512\u001b[39m\u001b[38;5;124m'\u001b[39m: middle_512_df, \n\u001b[0;32m      4\u001b[0m     \u001b[38;5;124m'\u001b[39m\u001b[38;5;124mfirst_4096\u001b[39m\u001b[38;5;124m'\u001b[39m: first_4096_df\n\u001b[0;32m      5\u001b[0m }\n\u001b[0;32m      8\u001b[0m \u001b[38;5;66;03m# Tokenize\u001b[39;00m\n\u001b[0;32m      9\u001b[0m datasets_hf \u001b[38;5;241m=\u001b[39m {\n\u001b[0;32m     10\u001b[0m     name: Dataset\u001b[38;5;241m.\u001b[39mfrom_pandas(df) \n\u001b[1;32m---> 11\u001b[0m     \u001b[38;5;28;01mfor\u001b[39;00m name, df \u001b[38;5;129;01min\u001b[39;00m \u001b[43mdatasets_pd\u001b[49m\u001b[43m[\u001b[49m\u001b[38;5;124;43m'\u001b[39;49m\u001b[38;5;124;43mtext\u001b[39;49m\u001b[38;5;124;43m'\u001b[39;49m\u001b[43m]\u001b[49m\u001b[38;5;241m.\u001b[39mitems()\n\u001b[0;32m     12\u001b[0m }\n\u001b[0;32m     15\u001b[0m configs \u001b[38;5;241m=\u001b[39m [\n\u001b[0;32m     16\u001b[0m     {\u001b[38;5;124m'\u001b[39m\u001b[38;5;124mname\u001b[39m\u001b[38;5;124m'\u001b[39m: \u001b[38;5;124m'\u001b[39m\u001b[38;5;124mfirst_512\u001b[39m\u001b[38;5;124m'\u001b[39m, \u001b[38;5;124m'\u001b[39m\u001b[38;5;124mtokenizer\u001b[39m\u001b[38;5;124m'\u001b[39m: bert_tokenizer, \u001b[38;5;124m'\u001b[39m\u001b[38;5;124mmax_length\u001b[39m\u001b[38;5;124m'\u001b[39m: \u001b[38;5;241m512\u001b[39m},\n\u001b[0;32m     17\u001b[0m     {\u001b[38;5;124m'\u001b[39m\u001b[38;5;124mname\u001b[39m\u001b[38;5;124m'\u001b[39m: \u001b[38;5;124m'\u001b[39m\u001b[38;5;124mmiddle_512\u001b[39m\u001b[38;5;124m'\u001b[39m, \u001b[38;5;124m'\u001b[39m\u001b[38;5;124mtokenizer\u001b[39m\u001b[38;5;124m'\u001b[39m: bert_tokenizer, \u001b[38;5;124m'\u001b[39m\u001b[38;5;124mmax_length\u001b[39m\u001b[38;5;124m'\u001b[39m: \u001b[38;5;241m512\u001b[39m},\n\u001b[0;32m     18\u001b[0m     {\u001b[38;5;124m'\u001b[39m\u001b[38;5;124mname\u001b[39m\u001b[38;5;124m'\u001b[39m: \u001b[38;5;124m'\u001b[39m\u001b[38;5;124mfirst_4096\u001b[39m\u001b[38;5;124m'\u001b[39m, \u001b[38;5;124m'\u001b[39m\u001b[38;5;124mtokenizer\u001b[39m\u001b[38;5;124m'\u001b[39m: lf_tokenizer, \u001b[38;5;124m'\u001b[39m\u001b[38;5;124mmax_length\u001b[39m\u001b[38;5;124m'\u001b[39m: \u001b[38;5;241m4096\u001b[39m}\n\u001b[0;32m     19\u001b[0m ]\n\u001b[0;32m     22\u001b[0m tokenized_datasets \u001b[38;5;241m=\u001b[39m {}\n",
      "\u001b[1;31mKeyError\u001b[0m: 'text'"
     ]
    }
   ],
   "source": [
    "datasets_pd = {\n",
    "    'first_512': first_512_df,\n",
    "    'middle_512': middle_512_df, \n",
    "    'first_4096': first_4096_df\n",
    "}\n",
    "\n",
    "    \n",
    "# Tokenize\n",
    "datasets_hf = {\n",
    "    name: Dataset.from_pandas(df) \n",
    "    for name, df in datasets_pd.items()\n",
    "}\n",
    "\n",
    "\n",
    "configs = [\n",
    "    {'name': 'first_512', 'tokenizer': bert_tokenizer, 'max_length': 512},\n",
    "    {'name': 'middle_512', 'tokenizer': bert_tokenizer, 'max_length': 512},\n",
    "    {'name': 'first_4096', 'tokenizer': lf_tokenizer, 'max_length': 4096}\n",
    "]\n",
    "\n",
    "\n",
    "tokenized_datasets = {}\n",
    "\n",
    "\n",
    "for config in configs:\n",
    "    tokenized_datasets[config['name']] = datasets_hf[config['name']].map(\n",
    "        lambda examples: config['tokenizer'](\n",
    "            examples[config['name']],  # adjust column name as needed\n",
    "            truncation=True,\n",
    "            padding='max_length',\n",
    "            max_length=config['max_length'],\n",
    "            return_tensors='pt'\n",
    "        ),\n",
    "        batched=True\n",
    "    )"
   ]
  },
  {
   "cell_type": "code",
   "execution_count": null,
   "id": "0b454c42",
   "metadata": {},
   "outputs": [
    {
     "data": {
      "application/vnd.jupyter.widget-view+json": {
       "model_id": "1994e0246487497591848407679967e8",
       "version_major": 2,
       "version_minor": 0
      },
      "text/plain": [
       "Uploading the dataset shards:   0%|          | 0/1 [00:00<?, ?it/s]"
      ]
     },
     "metadata": {},
     "output_type": "display_data"
    },
    {
     "data": {
      "application/vnd.jupyter.widget-view+json": {
       "model_id": "21a644d2fcb447de94a46a86b3976d35",
       "version_major": 2,
       "version_minor": 0
      },
      "text/plain": [
       "Creating parquet from Arrow format:   0%|          | 0/33 [00:00<?, ?ba/s]"
      ]
     },
     "metadata": {},
     "output_type": "display_data"
    },
    {
     "data": {
      "application/vnd.jupyter.widget-view+json": {
       "model_id": "af546f7b447d42d6bfcfb10617c4d06c",
       "version_major": 2,
       "version_minor": 0
      },
      "text/plain": [
       "Uploading the dataset shards:   0%|          | 0/1 [00:00<?, ?it/s]"
      ]
     },
     "metadata": {},
     "output_type": "display_data"
    },
    {
     "data": {
      "application/vnd.jupyter.widget-view+json": {
       "model_id": "3e72b9d57ca74b15b49cc74334c8d987",
       "version_major": 2,
       "version_minor": 0
      },
      "text/plain": [
       "Creating parquet from Arrow format:   0%|          | 0/33 [00:00<?, ?ba/s]"
      ]
     },
     "metadata": {},
     "output_type": "display_data"
    },
    {
     "data": {
      "application/vnd.jupyter.widget-view+json": {
       "model_id": "237d0227369e478cb87063531587bdf4",
       "version_major": 2,
       "version_minor": 0
      },
      "text/plain": [
       "Uploading the dataset shards:   0%|          | 0/1 [00:00<?, ?it/s]"
      ]
     },
     "metadata": {},
     "output_type": "display_data"
    },
    {
     "data": {
      "application/vnd.jupyter.widget-view+json": {
       "model_id": "4ab7634aea1e48cba6783d04de2bd492",
       "version_major": 2,
       "version_minor": 0
      },
      "text/plain": [
       "Creating parquet from Arrow format:   0%|          | 0/7 [00:00<?, ?ba/s]"
      ]
     },
     "metadata": {},
     "output_type": "display_data"
    }
   ],
   "source": [
    "for dataset in tokenized_datasets.keys():\n",
    "    tokenized_datasets[dataset].push_to_hub(f\"Czunzun/Financial_news_{dataset}\")"
   ]
  },
  {
   "cell_type": "code",
   "execution_count": 15,
   "id": "9ca65c6b",
   "metadata": {},
   "outputs": [
    {
     "data": {
      "text/plain": [
       "True"
      ]
     },
     "execution_count": 15,
     "metadata": {},
     "output_type": "execute_result"
    }
   ],
   "source": [
    "169826664 > 35833704"
   ]
  },
  {
   "cell_type": "code",
   "execution_count": null,
   "id": "c16cb4fb",
   "metadata": {},
   "outputs": [],
   "source": []
  }
 ],
 "metadata": {
  "kernelspec": {
   "display_name": "Python 3",
   "language": "python",
   "name": "python3"
  },
  "language_info": {
   "codemirror_mode": {
    "name": "ipython",
    "version": 3
   },
   "file_extension": ".py",
   "mimetype": "text/x-python",
   "name": "python",
   "nbconvert_exporter": "python",
   "pygments_lexer": "ipython3",
   "version": "3.10.11"
  }
 },
 "nbformat": 4,
 "nbformat_minor": 5
}
