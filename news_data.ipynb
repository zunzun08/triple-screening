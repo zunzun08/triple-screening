{
 "cells": [
  {
   "cell_type": "code",
   "execution_count": 1,
   "id": "5f448925",
   "metadata": {},
   "outputs": [],
   "source": [
    "from pyspark.sql import SparkSession\n",
    "from pyspark import SparkContext\n",
    "from pyspark import SparkFiles\n",
    "import pandas as pd\n",
    "import numpy as np\n",
    "from transformers import BertTokenizer, AutoTokenizer\n",
    "import seaborn as sn\n",
    "import matplotlib.pyplot as plt\n",
    "from datasets import Dataset\n",
    "from datasets import load_dataset\n",
    "from pyspark.sql import SparkSession\n",
    "from pyspark.sql.functions import length\n"
   ]
  },
  {
   "cell_type": "code",
   "execution_count": null,
   "id": "420065e3",
   "metadata": {},
   "outputs": [
    {
     "data": {
      "application/vnd.jupyter.widget-view+json": {
       "model_id": "10431f6cc9e64dd3b94a6c2ad8d67cb2",
       "version_major": 2,
       "version_minor": 0
      },
      "text/plain": [
       "VBox(children=(HTML(value='<center> <img\\nsrc=https://huggingface.co/front/assets/huggingface_logo-noborder.sv…"
      ]
     },
     "metadata": {},
     "output_type": "display_data"
    }
   ],
   "source": [
    "import os\n",
    "import sys\n",
    "from dotenv import load_dotenv\n",
    "\n",
    "#For Desktop \n",
    "os.environ['PYSPARK_PYTHON'] = sys.executable\n",
    "os.environ['PYSPARK_DRIVER_PYTHON'] = sys.executable\n",
    "\n",
    "from huggingface_hub import login\n",
    "\n",
    "#For Desktop\n",
    "login(token=os.getenv(\"HF_MASTER_KEY\"))\n",
    "\n",
    "#For Macbook\n",
    "#load_dotenv()\n",
    "#login(token=os.getenv(\"MACBOOK_HF_KEY\"))\n",
    "\n",
    "# Clear conflicting environment variables\n",
    "#if 'PYTHONPATH' in os.environ:\n",
    "    #del os.environ['PYTHONPATH']\n",
    "\n"
   ]
  },
  {
   "cell_type": "code",
   "execution_count": 3,
   "id": "0849b7a3",
   "metadata": {},
   "outputs": [],
   "source": [
    "from pyspark.sql import SparkSession\n",
    "from datasets import load_dataset\n",
    "import pandas as pd\n",
    "\n",
    "# Test run with Reuters and Ashraq financial news dataset\n",
    "reuters_spark = SparkSession.builder.appName(\"ReutersNews\").getOrCreate()\n",
    "finnews_spark = SparkSession.builder.appName('FinNews').getOrCreate()\n",
    "\n",
    "# Dictionary mapping spark sessions to dataset names\n",
    "spark_dataset_mapping = {\n",
    "    reuters_spark: \"danidanou/Reuters_Financial_News\",\n",
    "    finnews_spark: \"ashraq/financial-news-articles\"\n",
    "}\n",
    "\n",
    "def ds_to_spark(spark_session, dataset_name, dataset_size=10000):\n",
    "    \"\"\"\n",
    "    Convert a HuggingFace dataset to a Spark DataFrame\n",
    "    \n",
    "    Args:\n",
    "        spark_session: Active Spark session\n",
    "        dataset_name: HuggingFace dataset name/path\n",
    "        dataset_size: Number of rows to load (default: 10000)\n",
    "    \n",
    "    Returns:\n",
    "        Spark DataFrame or None if failed\n",
    "    \"\"\"\n",
    "    from pyspark.sql.types import StructType, StructField, StringType\n",
    "    \n",
    "    print(f\"Loading dataset: {dataset_name}\")\n",
    "    \n",
    "    try:\n",
    "        # Load HuggingFace dataset with size limit\n",
    "        hf_df = load_dataset(dataset_name, split=f'train[:{dataset_size}]')\n",
    "        \n",
    "        # Convert to pandas\n",
    "        pd_df = hf_df.to_pandas()\n",
    "        \n",
    "        print(f\"DF shape: {pd_df.shape}\")\n",
    "        \n",
    "        # Check and clean columns\n",
    "        for col in pd_df.columns:\n",
    "            if pd_df[col].dtype == 'object':\n",
    "                # Get a sample of non-null values\n",
    "                non_null_values = pd_df[col].dropna()\n",
    "                \n",
    "                if len(non_null_values) > 0:\n",
    "                    # Check the first few values to determine type\n",
    "                    sample_value = non_null_values.iloc[0]\n",
    "                    \n",
    "                    if isinstance(sample_value, (list, dict)):\n",
    "                        # Convert complex types to string\n",
    "                        pd_df[col] = pd_df[col].apply(lambda x: str(x) if x is not None else \"\")\n",
    "                        print(f\"Converted col '{col}' to string\")\n",
    "        \n",
    "        # Fill null values\n",
    "        pd_df = pd_df.fillna(\"\")\n",
    "        \n",
    "        try:\n",
    "            # Convert pandas DataFrame to list of Row objects for compatibility\n",
    "            records = pd_df.to_dict('records')\n",
    "            spark_df = spark_session.createDataFrame(records)\n",
    "            print(f\"Successfully created Spark DataFrame for {dataset_name}\")\n",
    "            print(\"Schema:\")\n",
    "            spark_df.printSchema()\n",
    "            return spark_df\n",
    "            \n",
    "        except Exception as e:\n",
    "            print(f\"Error creating DataFrame for {dataset_name}: {e}\")\n",
    "            \n",
    "            # Alternative approach: Define explicit schema and use records\n",
    "            print(\"Trying with explicit string schema and records conversion...\")\n",
    "            \n",
    "            try:\n",
    "                # Create schema with all string types\n",
    "                string_schema = StructType([\n",
    "                    StructField(col, StringType(), True) for col in pd_df.columns\n",
    "                ])\n",
    "                \n",
    "                # Convert all columns to string\n",
    "                pd_df_str = pd_df.astype(str)\n",
    "                \n",
    "                # Convert to records format\n",
    "                records = pd_df_str.to_dict('records')\n",
    "                \n",
    "                # Create Spark DataFrame with explicit schema\n",
    "                spark_df = spark_session.createDataFrame(records, schema=string_schema)\n",
    "                print(f\"Successfully created Spark DataFrame with string schema for {dataset_name}\")\n",
    "                print(\"Schema:\")\n",
    "                spark_df.printSchema()\n",
    "                return spark_df\n",
    "                \n",
    "            except Exception as e2:\n",
    "                print(f\"Failed even with string schema and records: {e2}\")\n",
    "                \n",
    "                # Last resort: Manual row creation\n",
    "                print(\"Trying manual row creation...\")\n",
    "                try:\n",
    "                    from pyspark.sql import Row\n",
    "                    \n",
    "                    # Create Row objects manually\n",
    "                    Row = Row(*pd_df.columns)\n",
    "                    rows = [Row(*[str(val) for val in row]) for row in pd_df.values]\n",
    "                    \n",
    "                    spark_df = spark_session.createDataFrame(rows)\n",
    "                    print(f\"Successfully created Spark DataFrame with manual row creation for {dataset_name}\")\n",
    "                    print(\"Schema:\")\n",
    "                    spark_df.printSchema()\n",
    "                    return spark_df\n",
    "                    \n",
    "                except Exception as e3:\n",
    "                    print(f\"All methods failed for {dataset_name}: {e3}\")\n",
    "                    return None\n",
    "    \n",
    "    except Exception as e:\n",
    "        print(f\"Error loading dataset {dataset_name}: {e}\")\n",
    "        return None\n",
    "\n"
   ]
  },
  {
   "cell_type": "code",
   "execution_count": 4,
   "id": "34107ee1",
   "metadata": {},
   "outputs": [
    {
     "name": "stdout",
     "output_type": "stream",
     "text": [
      "Loading dataset: danidanou/Reuters_Financial_News\n",
      "DF shape: (20000, 7)\n",
      "Error creating DataFrame for danidanou/Reuters_Financial_News: [CANNOT_INFER_TYPE_FOR_FIELD] Unable to infer the type of the field `Journalists`.\n",
      "Trying with explicit string schema and records conversion...\n",
      "Successfully created Spark DataFrame with string schema for danidanou/Reuters_Financial_News\n",
      "Schema:\n",
      "root\n",
      " |-- Headline: string (nullable = true)\n",
      " |-- Journalists: string (nullable = true)\n",
      " |-- Date: string (nullable = true)\n",
      " |-- Link: string (nullable = true)\n",
      " |-- Summary: string (nullable = true)\n",
      " |-- Article: string (nullable = true)\n",
      " |-- __index_level_0__: string (nullable = true)\n",
      "\n",
      "Loading dataset: ashraq/financial-news-articles\n",
      "DF shape: (20000, 3)\n",
      "Successfully created Spark DataFrame for ashraq/financial-news-articles\n",
      "Schema:\n",
      "root\n",
      " |-- text: string (nullable = true)\n",
      " |-- title: string (nullable = true)\n",
      " |-- url: string (nullable = true)\n",
      "\n",
      "Reuters dataset loaded successfully\n",
      "+--------------------+------------------+--------------------+--------------------+--------------------+--------------------+-----------------+\n",
      "|            Headline|       Journalists|                Date|                Link|             Summary|             Article|__index_level_0__|\n",
      "+--------------------+------------------+--------------------+--------------------+--------------------+--------------------+-----------------+\n",
      "|Hitachi, GE boost...|              ['']|Mon Nov 13, 2006 ...|http://www.reuter...| TOKYO - Hitachi ...| The move comes a...|                0|\n",
      "|Volvo to cut 1,00...|              ['']|Mon Nov 13, 2006 ...|http://www.reuter...| STOCKHOLM - Truc...| After years of s...|                1|\n",
      "|European banks hi...|  ['Andrew Hurst']|Mon Nov 13, 2006 ...|http://www.reuter...| ZURICH, Nov 13 (...| Since adopting I...|                2|\n",
      "|Hitachi, GE to fo...|['Mayumi Negishi']|Mon Nov 13, 2006 ...|http://www.reuter...| TOKYO - Japan's ...| The partnership ...|                3|\n",
      "|Eddie Bauer agree...|              ['']|Mon Nov 13, 2006 ...|http://www.reuter...| - Eddie Bauer Ho...| The cash deal is...|                4|\n",
      "+--------------------+------------------+--------------------+--------------------+--------------------+--------------------+-----------------+\n",
      "only showing top 5 rows\n",
      "\n",
      "Financial News dataset loaded successfully\n",
      "+--------------------+--------------------+--------------------+\n",
      "|                text|               title|                 url|\n",
      "+--------------------+--------------------+--------------------+\n",
      "|January 2, 2018 /...|BRIEF-Bigger Capi...|https://www.reute...|\n",
      "|NEW YORK (Reuters...|Global Markets: A...|https://in.reuter...|\n",
      "|Fears of a govern...|Donald Trump is t...|https://www.cnbc....|\n",
      "| 03 PM / Updated ...|Actor Casey Affle...|https://www.reute...|\n",
      "|January 22, 2018 ...|EU mulls new link...|https://uk.reuter...|\n",
      "+--------------------+--------------------+--------------------+\n",
      "only showing top 5 rows\n",
      "\n"
     ]
    }
   ],
   "source": [
    "reuters_df = ds_to_spark(reuters_spark, \"danidanou/Reuters_Financial_News\", 20000)\n",
    "finnews_df = ds_to_spark(finnews_spark, \"ashraq/financial-news-articles\", 20000)\n",
    "\n",
    "# Check if successful\n",
    "if reuters_df:\n",
    "    print(\"Reuters dataset loaded successfully\")\n",
    "    reuters_df.show(5)\n",
    "\n",
    "if finnews_df:\n",
    "    print(\"Financial News dataset loaded successfully\") \n",
    "    finnews_df.show(5)"
   ]
  },
  {
   "cell_type": "code",
   "execution_count": 5,
   "id": "169bd73e",
   "metadata": {},
   "outputs": [],
   "source": [
    "#Now we need to concat the two spark dataframes\n",
    "from pyspark.sql.functions import col\n",
    "\n",
    "reuters_df = reuters_df.select(col(\"Headline\").alias(\"title\"), col(\"Link\").alias(\"url\"), col(\"Article\").alias(\"text\"))\n",
    "reuters_df = reuters_df.drop(*('Journalists', 'Date', 'Summary', '__index_level_0__'))\n",
    "\n",
    "df = reuters_df.unionByName(finnews_df)\n"
   ]
  },
  {
   "cell_type": "code",
   "execution_count": 6,
   "id": "cfe02363",
   "metadata": {},
   "outputs": [],
   "source": [
    "#Shuffling the rows\n",
    "\n",
    "from pyspark.sql.functions import rand\n",
    "df = df.withColumn(\"rand_key\", rand())\n",
    "df = df.orderBy(\"rand_key\")\n",
    "df = df.drop(\"rand_key\")"
   ]
  },
  {
   "cell_type": "code",
   "execution_count": 7,
   "id": "523e266f",
   "metadata": {},
   "outputs": [
    {
     "name": "stdout",
     "output_type": "stream",
     "text": [
      "+--------------------+--------------------+--------------------+\n",
      "|               title|                 url|                text|\n",
      "+--------------------+--------------------+--------------------+\n",
      "|U.S.-based Russia...|https://www.reute...|MOSCOW, Jan 10 (R...|\n",
      "|JGBs edge up on s...|http://www.reuter...| On Thursday both...|\n",
      "|BRIEF-Hashchain T...|https://www.reute...|January 24, 2018 ...|\n",
      "|Puerto Rico's gov...|https://uk.reuter...|Puerto Rico's gov...|\n",
      "|Blackstone agrees...|https://www.reute...|January 30, 2018 ...|\n",
      "+--------------------+--------------------+--------------------+\n",
      "only showing top 5 rows\n",
      "\n"
     ]
    }
   ],
   "source": [
    "df.show(5)"
   ]
  },
  {
   "cell_type": "code",
   "execution_count": 8,
   "id": "6b0e54f1",
   "metadata": {},
   "outputs": [
    {
     "data": {
      "text/plain": [
       "<Figure size 2400x600 with 0 Axes>"
      ]
     },
     "metadata": {},
     "output_type": "display_data"
    },
    {
     "data": {
      "image/png": "[encoded data removed]",
      "text/plain": [
       "<Figure size 640x480 with 2 Axes>"
      ]
     },
     "metadata": {},
     "output_type": "display_data"
    }
   ],
   "source": [
    "from pyspark.sql.functions import length\n",
    "\n",
    "plt.figure(figsize=(24,6))\n",
    "\n",
    "fig, axs = plt.subplots(ncols=2)\n",
    "\n",
    "\n",
    "\n",
    "df = df.withColumn(\"text_length\",length(\"text\"))\n",
    "article_length_series = df.select(\"text_length\").toPandas().squeeze()\n",
    "\n",
    "\n",
    "fig.suptitle('Distirbution of News Article word length')\n",
    "\n",
    "sn.histplot(data=article_length_series, ax=axs[0])\n",
    "\n",
    "sn.boxplot(data=article_length_series, ax=axs[1])\n",
    "plt.tight_layout()\n",
    "plt.show()"
   ]
  },
  {
   "cell_type": "code",
   "execution_count": 9,
   "id": "44ae5374",
   "metadata": {},
   "outputs": [
    {
     "name": "stdout",
     "output_type": "stream",
     "text": [
      "+-------+-----------------+\n",
      "|summary|      text_length|\n",
      "+-------+-----------------+\n",
      "|  count|            40000|\n",
      "|   mean|      2481.535675|\n",
      "| stddev|2929.501584069476|\n",
      "|    min|                0|\n",
      "|    max|            92731|\n",
      "+-------+-----------------+\n",
      "\n"
     ]
    }
   ],
   "source": [
    "df.describe([\"text_length\"]).show()"
   ]
  },
  {
   "cell_type": "code",
   "execution_count": 10,
   "id": "cd1c76e6",
   "metadata": {},
   "outputs": [],
   "source": [
    "#We'll do 3 methods the first will be to take the first 512 words of an article (if it has it), combine into a column for a dataframe\n",
    "#The second method will be to take the middle 512 words (if available) of an article and combine into a column\n",
    "#The third will be to take the first 2000 words of an article, combine into a column \n",
    "\n",
    "from pyspark.sql.functions import substring, col, expr\n",
    "from pyspark.sql.types import IntegerType\n",
    "\n",
    "word_df = df.filter((\"text_length >= 512\"))\n",
    "\n",
    "#Method one\n",
    "first_512_df = word_df.withColumn(\"first_512\", substring(\"text\", 0, 511)).select(\"first_512\")\n",
    "\n",
    "#Method two\n",
    "\n",
    "#Making a function to define middle of column\n",
    "\n",
    "middle_512_df = word_df.withColumn(\n",
    "    \"middle_512\",\n",
    "    expr(\"substring(text, (text_length - 512) / 2, text_length - (text_length - 512) / 2)\")\n",
    ").select(\"middle_512\")\n",
    "\n",
    "#Third_method\n",
    "word_df = df.filter(\"text_length >= 4096\")\n",
    "\n",
    "first_4096_df = word_df.withColumn(\"first_4096\", substring(\"text\", 0, 4095)).select(\"first_4096\")\n",
    "\n",
    "\n",
    "\n",
    "\n"
   ]
  },
  {
   "cell_type": "code",
   "execution_count": 11,
   "id": "3f247ed9",
   "metadata": {},
   "outputs": [
    {
     "data": {
      "application/vnd.jupyter.widget-view+json": {
       "model_id": "809ac9188220483ea2f0fb7d489f2d11",
       "version_major": 2,
       "version_minor": 0
      },
      "text/plain": [
       "tokenizer_config.json:   0%|          | 0.00/48.0 [00:00<?, ?B/s]"
      ]
     },
     "metadata": {},
     "output_type": "display_data"
    },
    {
     "name": "stderr",
     "output_type": "stream",
     "text": [
      "c:\\Users\\Omar\\AppData\\Local\\Programs\\Python\\Python310\\lib\\site-packages\\huggingface_hub\\file_download.py:143: UserWarning: `huggingface_hub` cache-system uses symlinks by default to efficiently store duplicated files but your machine does not support them in C:\\Users\\Omar\\.cache\\huggingface\\hub\\models--distilbert--distilbert-base-uncased. Caching files will still work but in a degraded version that might require more space on your disk. This warning can be disabled by setting the `HF_HUB_DISABLE_SYMLINKS_WARNING` environment variable. For more details, see https://huggingface.co/docs/huggingface_hub/how-to-cache#limitations.\n",
      "To support symlinks on Windows, you either need to activate Developer Mode or to run Python as an administrator. In order to activate developer mode, see this article: https://docs.microsoft.com/en-us/windows/apps/get-started/enable-your-device-for-development\n",
      "  warnings.warn(message)\n"
     ]
    },
    {
     "data": {
      "application/vnd.jupyter.widget-view+json": {
       "model_id": "458e496f7cea40b6abde23987c7cb6e8",
       "version_major": 2,
       "version_minor": 0
      },
      "text/plain": [
       "config.json:   0%|          | 0.00/483 [00:00<?, ?B/s]"
      ]
     },
     "metadata": {},
     "output_type": "display_data"
    },
    {
     "data": {
      "application/vnd.jupyter.widget-view+json": {
       "model_id": "a5cb32a040764ca9bc2eb6261fb5ebc1",
       "version_major": 2,
       "version_minor": 0
      },
      "text/plain": [
       "vocab.txt: 0.00B [00:00, ?B/s]"
      ]
     },
     "metadata": {},
     "output_type": "display_data"
    },
    {
     "data": {
      "application/vnd.jupyter.widget-view+json": {
       "model_id": "b797cfff47a24b1d88cb29df71715c80",
       "version_major": 2,
       "version_minor": 0
      },
      "text/plain": [
       "tokenizer.json: 0.00B [00:00, ?B/s]"
      ]
     },
     "metadata": {},
     "output_type": "display_data"
    }
   ],
   "source": [
    "#The third method will feed into a longform tranfsformer for pretraining\n",
    "#The second method and first method will feed into a DistilBERT for pretraining\n",
    "#We'll use a one lstm that will train on the first 512 words (benchmark, to be added later)\n",
    "\n",
    "\n",
    "#Bert tokenizer\n",
    "\n",
    "bert_tokenizer = AutoTokenizer.from_pretrained('distilbert/distilbert-base-uncased')\n",
    "lf_tokenizer = AutoTokenizer.from_pretrained('distilbert/distilbert-base-uncased')\n"
   ]
  },
  {
   "cell_type": "markdown",
   "id": "a53a9f12",
   "metadata": {},
   "source": [
    "(06/17/25)\n",
    "The step below could use optimzation "
   ]
  },
  {
   "cell_type": "code",
   "execution_count": 12,
   "id": "948ddca4",
   "metadata": {},
   "outputs": [
    {
     "data": {
      "application/vnd.jupyter.widget-view+json": {
       "model_id": "f1ffd70a94ad4d0683138ac4d730fbb1",
       "version_major": 2,
       "version_minor": 0
      },
      "text/plain": [
       "Map:   0%|          | 0/32969 [00:00<?, ? examples/s]"
      ]
     },
     "metadata": {},
     "output_type": "display_data"
    },
    {
     "data": {
      "application/vnd.jupyter.widget-view+json": {
       "model_id": "a46d23f121d847de9a72bf1eddea5a2d",
       "version_major": 2,
       "version_minor": 0
      },
      "text/plain": [
       "Map:   0%|          | 0/32969 [00:00<?, ? examples/s]"
      ]
     },
     "metadata": {},
     "output_type": "display_data"
    },
    {
     "data": {
      "application/vnd.jupyter.widget-view+json": {
       "model_id": "c5c47fd02f9b4e4e844a2fe230e421ec",
       "version_major": 2,
       "version_minor": 0
      },
      "text/plain": [
       "Map:   0%|          | 0/6745 [00:00<?, ? examples/s]"
      ]
     },
     "metadata": {},
     "output_type": "display_data"
    }
   ],
   "source": [
    "datasets_pd = {\n",
    "    'first_512': first_512_df.toPandas(),\n",
    "    'middle_512': middle_512_df.toPandas(), \n",
    "    'first_4096': first_4096_df.toPandas()\n",
    "}\n",
    "#standardizing text name col\n",
    "for df in datasets_pd.keys():\n",
    "    datasets_pd[df].rename(columns={df:'text'})\n",
    "    \n",
    "    \n",
    "# Tokenize\n",
    "datasets_hf = {\n",
    "    name: Dataset.from_pandas(df) \n",
    "    for name, df in datasets_pd.items()\n",
    "}\n",
    "configs = [\n",
    "    {'name': 'first_512', 'tokenizer': bert_tokenizer, 'max_length': 512},\n",
    "    {'name': 'middle_512', 'tokenizer': bert_tokenizer, 'max_length': 512},\n",
    "    {'name': 'first_4096', 'tokenizer': lf_tokenizer, 'max_length': 4096}\n",
    "]\n",
    "\n",
    "\n",
    "tokenized_datasets = {}\n",
    "\n",
    "\n",
    "for config in configs:\n",
    "    tokenized_datasets[config['name']] = datasets_hf[config['name']].map(\n",
    "        lambda examples: config['tokenizer'](\n",
    "            examples[config['name']],  # adjust column name as needed\n",
    "            truncation=True,\n",
    "            padding='max_length',\n",
    "            max_length=config['max_length'],\n",
    "            return_tensors='pt'\n",
    "        ),\n",
    "        batched=True\n",
    "    )"
   ]
  },
  {
   "cell_type": "code",
   "execution_count": 13,
   "id": "0b454c42",
   "metadata": {},
   "outputs": [
    {
     "data": {
      "application/vnd.jupyter.widget-view+json": {
       "model_id": "1994e0246487497591848407679967e8",
       "version_major": 2,
       "version_minor": 0
      },
      "text/plain": [
       "Uploading the dataset shards:   0%|          | 0/1 [00:00<?, ?it/s]"
      ]
     },
     "metadata": {},
     "output_type": "display_data"
    },
    {
     "data": {
      "application/vnd.jupyter.widget-view+json": {
       "model_id": "21a644d2fcb447de94a46a86b3976d35",
       "version_major": 2,
       "version_minor": 0
      },
      "text/plain": [
       "Creating parquet from Arrow format:   0%|          | 0/33 [00:00<?, ?ba/s]"
      ]
     },
     "metadata": {},
     "output_type": "display_data"
    },
    {
     "data": {
      "application/vnd.jupyter.widget-view+json": {
       "model_id": "af546f7b447d42d6bfcfb10617c4d06c",
       "version_major": 2,
       "version_minor": 0
      },
      "text/plain": [
       "Uploading the dataset shards:   0%|          | 0/1 [00:00<?, ?it/s]"
      ]
     },
     "metadata": {},
     "output_type": "display_data"
    },
    {
     "data": {
      "application/vnd.jupyter.widget-view+json": {
       "model_id": "3e72b9d57ca74b15b49cc74334c8d987",
       "version_major": 2,
       "version_minor": 0
      },
      "text/plain": [
       "Creating parquet from Arrow format:   0%|          | 0/33 [00:00<?, ?ba/s]"
      ]
     },
     "metadata": {},
     "output_type": "display_data"
    },
    {
     "data": {
      "application/vnd.jupyter.widget-view+json": {
       "model_id": "237d0227369e478cb87063531587bdf4",
       "version_major": 2,
       "version_minor": 0
      },
      "text/plain": [
       "Uploading the dataset shards:   0%|          | 0/1 [00:00<?, ?it/s]"
      ]
     },
     "metadata": {},
     "output_type": "display_data"
    },
    {
     "data": {
      "application/vnd.jupyter.widget-view+json": {
       "model_id": "4ab7634aea1e48cba6783d04de2bd492",
       "version_major": 2,
       "version_minor": 0
      },
      "text/plain": [
       "Creating parquet from Arrow format:   0%|          | 0/7 [00:00<?, ?ba/s]"
      ]
     },
     "metadata": {},
     "output_type": "display_data"
    }
   ],
   "source": [
    "for dataset in tokenized_datasets.keys():\n",
    "    tokenized_datasets[dataset].push_to_hub(f\"Czunzun/Financial_news_{dataset}\")"
   ]
  },
  {
   "cell_type": "code",
   "execution_count": null,
   "id": "9ca65c6b",
   "metadata": {},
   "outputs": [],
   "source": []
  }
 ],
 "metadata": {
  "kernelspec": {
   "display_name": "Python 3",
   "language": "python",
   "name": "python3"
  },
  "language_info": {
   "codemirror_mode": {
    "name": "ipython",
    "version": 3
   },
   "file_extension": ".py",
   "mimetype": "text/x-python",
   "name": "python",
   "nbconvert_exporter": "python",
   "pygments_lexer": "ipython3",
   "version": "3.10.11"
  }
 },
 "nbformat": 4,
 "nbformat_minor": 5
}
