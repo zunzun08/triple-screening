{
 "cells": [
  {
   "cell_type": "code",
   "execution_count": null,
   "id": "5f448925",
   "metadata": {},
   "outputs": [],
   "source": [
    "import pandas as pd\n",
    "import numpy as np\n",
    "from transformers import BertTokenizer, AutoTokenizer\n",
    "import seaborn as sn\n",
    "import matplotlib.pyplot as plt\n",
    "from datasets import Dataset\n",
    "from datasets import load_dataset\n",
    "from dateutil import parser\n",
    "\n"
   ]
  },
  {
   "cell_type": "code",
   "execution_count": 27,
   "id": "420065e3",
   "metadata": {},
   "outputs": [],
   "source": [
    "import os\n",
    "import sys\n",
    "from dotenv import load_dotenv\n",
    "\n",
    "#For Desktop \n",
    "#s.environ['PYSPARK_PYTHON'] = sys.executable\n",
    "#os.environ['PYSPARK_DRIVER_PYTHON'] = sys.executable\n",
    "\n",
    "from huggingface_hub import login\n",
    "\n",
    "#For Desktop\n",
    "#login(token=os.getenv(\"HF_MASTER_KEY\"))\n",
    "\n",
    "#For Macbook\n",
    "load_dotenv()\n",
    "login(token=os.getenv(\"MACBOOK_HF_KEY\"))\n",
    "\n",
    "# Clear conflicting environment variables\n",
    "#if 'PYTHONPATH' in os.environ:\n",
    "    #del os.environ['PYTHONPATH']\n",
    "\n"
   ]
  },
  {
   "cell_type": "code",
   "execution_count": 3,
   "id": "0849b7a3",
   "metadata": {},
   "outputs": [
    {
     "name": "stderr",
     "output_type": "stream",
     "text": [
      "----------------------------------------\n",
      "Exception occurred during processing of request from ('127.0.0.1', 61201)\n",
      "Traceback (most recent call last):\n",
      "  File \"c:\\Users\\Omar\\AppData\\Local\\Programs\\Python\\Python310\\lib\\socketserver.py\", line 316, in _handle_request_noblock\n",
      "    self.process_request(request, client_address)\n",
      "  File \"c:\\Users\\Omar\\AppData\\Local\\Programs\\Python\\Python310\\lib\\socketserver.py\", line 347, in process_request\n",
      "    self.finish_request(request, client_address)\n",
      "  File \"c:\\Users\\Omar\\AppData\\Local\\Programs\\Python\\Python310\\lib\\socketserver.py\", line 360, in finish_request\n",
      "    self.RequestHandlerClass(request, client_address, self)\n",
      "  File \"c:\\Users\\Omar\\AppData\\Local\\Programs\\Python\\Python310\\lib\\socketserver.py\", line 747, in __init__\n",
      "    self.handle()\n",
      "  File \"C:\\spark\\spark-3.5.6-bin-hadoop3\\python\\pyspark\\accumulators.py\", line 295, in handle\n",
      "    poll(accum_updates)\n",
      "  File \"C:\\spark\\spark-3.5.6-bin-hadoop3\\python\\pyspark\\accumulators.py\", line 267, in poll\n",
      "    if self.rfile in r and func():\n",
      "  File \"C:\\spark\\spark-3.5.6-bin-hadoop3\\python\\pyspark\\accumulators.py\", line 271, in accum_updates\n",
      "    num_updates = read_int(self.rfile)\n",
      "  File \"C:\\spark\\spark-3.5.6-bin-hadoop3\\python\\pyspark\\serializers.py\", line 594, in read_int\n",
      "    length = stream.read(4)\n",
      "  File \"c:\\Users\\Omar\\AppData\\Local\\Programs\\Python\\Python310\\lib\\socket.py\", line 705, in readinto\n",
      "    return self._sock.recv_into(b)\n",
      "ConnectionResetError: [WinError 10054] An existing connection was forcibly closed by the remote host\n",
      "----------------------------------------\n"
     ]
    }
   ],
   "source": [
    "from pyspark.sql import SparkSession\n",
    "from datasets import load_dataset\n",
    "import pandas as pd\n",
    "\n",
    "# Test run with Reuters and Ashraq financial news dataset\n",
    "reuters_spark = SparkSession.builder.appName(\"ReutersNews\").getOrCreate()\n",
    "finnews_spark = SparkSession.builder.appName('FinNews').getOrCreate()\n",
    "\n",
    "# Dictionary mapping spark sessions to dataset names\n",
    "spark_dataset_mapping = {\n",
    "    reuters_spark: \"danidanou/Reuters_Financial_News\",\n",
    "    finnews_spark: \"ashraq/financial-news-articles\"\n",
    "}\n",
    "\n",
    "def ds_to_spark(spark_session, dataset_name, dataset_size=10000):\n",
    "    \"\"\"\n",
    "    Convert a HuggingFace dataset to a Spark DataFrame\n",
    "    \n",
    "    Args:\n",
    "        spark_session: Active Spark session\n",
    "        dataset_name: HuggingFace dataset name/path\n",
    "        dataset_size: Number of rows to load (default: 10000)\n",
    "    \n",
    "    Returns:\n",
    "        Spark DataFrame or None if failed\n",
    "    \"\"\"\n",
    "    from pyspark.sql.types import StructType, StructField, StringType\n",
    "    \n",
    "    print(f\"Loading dataset: {dataset_name}\")\n",
    "    \n",
    "    try:\n",
    "        # Load HuggingFace dataset with size limit\n",
    "        hf_df = load_dataset(dataset_name, split=f'train[:{dataset_size}]')\n",
    "        \n",
    "        # Convert to pandas\n",
    "        pd_df = hf_df.to_pandas()\n",
    "        \n",
    "        print(f\"DF shape: {pd_df.shape}\")\n",
    "        \n",
    "        # Check and clean columns\n",
    "        for col in pd_df.columns:\n",
    "            if pd_df[col].dtype == 'object':\n",
    "                # Get a sample of non-null values\n",
    "                non_null_values = pd_df[col].dropna()\n",
    "                \n",
    "                if len(non_null_values) > 0:\n",
    "                    # Check the first few values to determine type\n",
    "                    sample_value = non_null_values.iloc[0]\n",
    "                    \n",
    "                    if isinstance(sample_value, (list, dict)):\n",
    "                        # Convert complex types to string\n",
    "                        pd_df[col] = pd_df[col].apply(lambda x: str(x) if x is not None else \"\")\n",
    "                        print(f\"Converted col '{col}' to string\")\n",
    "        \n",
    "        # Fill null values\n",
    "        pd_df = pd_df.fillna(\"\")\n",
    "        \n",
    "        try:\n",
    "            # Convert pandas DataFrame to list of Row objects for compatibility\n",
    "            records = pd_df.to_dict('records')\n",
    "            spark_df = spark_session.createDataFrame(records)\n",
    "            print(f\"Successfully created Spark DataFrame for {dataset_name}\")\n",
    "            print(\"Schema:\")\n",
    "            spark_df.printSchema()\n",
    "            return spark_df\n",
    "            \n",
    "        except Exception as e:\n",
    "            print(f\"Error creating DataFrame for {dataset_name}: {e}\")\n",
    "            \n",
    "            # Alternative approach: Define explicit schema and use records\n",
    "            print(\"Trying with explicit string schema and records conversion...\")\n",
    "            \n",
    "            try:\n",
    "                # Create schema with all string types\n",
    "                string_schema = StructType([\n",
    "                    StructField(col, StringType(), True) for col in pd_df.columns\n",
    "                ])\n",
    "                \n",
    "                # Convert all columns to string\n",
    "                pd_df_str = pd_df.astype(str)\n",
    "                \n",
    "                # Convert to records format\n",
    "                records = pd_df_str.to_dict('records')\n",
    "                \n",
    "                # Create Spark DataFrame with explicit schema\n",
    "                spark_df = spark_session.createDataFrame(records, schema=string_schema)\n",
    "                print(f\"Successfully created Spark DataFrame with string schema for {dataset_name}\")\n",
    "                print(\"Schema:\")\n",
    "                spark_df.printSchema()\n",
    "                return spark_df\n",
    "                \n",
    "            except Exception as e2:\n",
    "                print(f\"Failed even with string schema and records: {e2}\")\n",
    "                \n",
    "                # Last resort: Manual row creation\n",
    "                print(\"Trying manual row creation...\")\n",
    "                try:\n",
    "                    from pyspark.sql import Row\n",
    "                    \n",
    "                    # Create Row objects manually\n",
    "                    Row = Row(*pd_df.columns)\n",
    "                    rows = [Row(*[str(val) for val in row]) for row in pd_df.values]\n",
    "                    \n",
    "                    spark_df = spark_session.createDataFrame(rows)\n",
    "                    print(f\"Successfully created Spark DataFrame with manual row creation for {dataset_name}\")\n",
    "                    print(\"Schema:\")\n",
    "                    spark_df.printSchema()\n",
    "                    return spark_df\n",
    "                    \n",
    "                except Exception as e3:\n",
    "                    print(f\"All methods failed for {dataset_name}: {e3}\")\n",
    "                    return None\n",
    "    \n",
    "    except Exception as e:\n",
    "        print(f\"Error loading dataset {dataset_name}: {e}\")\n",
    "        return None\n",
    "\n"
   ]
  },
  {
   "cell_type": "code",
   "execution_count": 171,
   "id": "694ee32f",
   "metadata": {},
   "outputs": [
    {
     "name": "stdout",
     "output_type": "stream",
     "text": [
      "<class 'pandas.core.frame.DataFrame'>\n",
      "Index: 411547 entries, 0 to 411600\n",
      "Data columns (total 4 columns):\n",
      " #   Column  Non-Null Count   Dtype \n",
      "---  ------  --------------   ----- \n",
      " 0   title   411547 non-null  object\n",
      " 1   Date    105359 non-null  object\n",
      " 2   url     411547 non-null  object\n",
      " 3   text    411547 non-null  object\n",
      "dtypes: object(4)\n",
      "memory usage: 15.7+ MB\n"
     ]
    }
   ],
   "source": [
    "from datasets import load_dataset\n",
    "reuters_df = load_dataset(\"danidanou/Reuters_Financial_News\")['train'].to_pandas()\n",
    "finnews_df = load_dataset(\"ashraq/financial-news-articles\")['train'].to_pandas()\n",
    "\n",
    "reuters_df = reuters_df.rename(columns={\n",
    "    'Article': 'text',\n",
    "    'Link': 'url',\n",
    "    'Headline': 'title'\n",
    "    })\n",
    "\n",
    "reuters_df = reuters_df.drop(columns=['Journalists', '__index_level_0__', 'Summary'])\n",
    "\n",
    "#Merging the df\n",
    "merged_df = pd.concat([reuters_df, finnews_df])\n",
    "\n",
    "#Shuffling the rows\n",
    "merged_df = merged_df.sample(frac=1).reset_index(drop=True)\n",
    "\n",
    "#Removing duplicates based on url\n",
    "merged_df = merged_df.drop_duplicates(subset=['url'], keep='first')\n",
    "\n",
    "merged_df.info()"
   ]
  },
  {
   "cell_type": "code",
   "execution_count": 177,
   "id": "c98a03a9",
   "metadata": {},
   "outputs": [
    {
     "data": {
      "text/html": [
       "<div>\n",
       "<style scoped>\n",
       "    .dataframe tbody tr th:only-of-type {\n",
       "        vertical-align: middle;\n",
       "    }\n",
       "\n",
       "    .dataframe tbody tr th {\n",
       "        vertical-align: top;\n",
       "    }\n",
       "\n",
       "    .dataframe thead th {\n",
       "        text-align: right;\n",
       "    }\n",
       "</style>\n",
       "<table border=\"1\" class=\"dataframe\">\n",
       "  <thead>\n",
       "    <tr style=\"text-align: right;\">\n",
       "      <th></th>\n",
       "      <th>title</th>\n",
       "      <th>Date</th>\n",
       "      <th>url</th>\n",
       "      <th>text</th>\n",
       "      <th>text_length</th>\n",
       "      <th>news_medium</th>\n",
       "      <th>news_type</th>\n",
       "    </tr>\n",
       "  </thead>\n",
       "  <tbody>\n",
       "    <tr>\n",
       "      <th>0</th>\n",
       "      <td>Europe hails but won't copy Obama bank fee plan</td>\n",
       "      <td>2010-01-15</td>\n",
       "      <td>http://www.reuters.com/article/2010/01/15/us-e...</td>\n",
       "      <td>\"We have to see now in Europe ... whether we ...</td>\n",
       "      <td>3259</td>\n",
       "      <td>reuters</td>\n",
       "      <td>article</td>\n",
       "    </tr>\n",
       "    <tr>\n",
       "      <th>1</th>\n",
       "      <td>Invitation - Presentation of Sobi's Q1 2018 Re...</td>\n",
       "      <td>2018-04-19</td>\n",
       "      <td>http://www.cnbc.com/2018/04/19/pr-newswire-inv...</td>\n",
       "      <td>STOCKHOLM, April 19, 2018 /PRNewswire/ -- On 2...</td>\n",
       "      <td>2326</td>\n",
       "      <td>cnbc</td>\n",
       "      <td>NaN</td>\n",
       "    </tr>\n",
       "    <tr>\n",
       "      <th>2</th>\n",
       "      <td>Gold 'loves any turbulence' as metal rises fol...</td>\n",
       "      <td>2018-03-13</td>\n",
       "      <td>https://www.cnbc.com/2018/03/13/gold-loves-any...</td>\n",
       "      <td>Gold was bid higher after Secretary of State R...</td>\n",
       "      <td>1640</td>\n",
       "      <td>cnbc</td>\n",
       "      <td>NaN</td>\n",
       "    </tr>\n",
       "    <tr>\n",
       "      <th>3</th>\n",
       "      <td>De Villiers ton hands South Africa commanding ...</td>\n",
       "      <td>NaN</td>\n",
       "      <td>https://uk.reuters.com/article/uk-cricket-test...</td>\n",
       "      <td>March 11, 2018 / 10:30 AM / in 27 minutes Khaw...</td>\n",
       "      <td>2566</td>\n",
       "      <td>uk.reuters</td>\n",
       "      <td>article</td>\n",
       "    </tr>\n",
       "    <tr>\n",
       "      <th>4</th>\n",
       "      <td>UPDATE 8-Oil eases, but avoids stocks-style vo...</td>\n",
       "      <td>2018-02-06</td>\n",
       "      <td>https://www.cnbc.com/2018/02/06/reuters-americ...</td>\n",
       "      <td>* Wall St slumps, volatility index nears three...</td>\n",
       "      <td>2651</td>\n",
       "      <td>cnbc</td>\n",
       "      <td>NaN</td>\n",
       "    </tr>\n",
       "    <tr>\n",
       "      <th>...</th>\n",
       "      <td>...</td>\n",
       "      <td>...</td>\n",
       "      <td>...</td>\n",
       "      <td>...</td>\n",
       "      <td>...</td>\n",
       "      <td>...</td>\n",
       "      <td>...</td>\n",
       "    </tr>\n",
       "    <tr>\n",
       "      <th>411596</th>\n",
       "      <td>Weinstein 'believes he will be forgiven' by Ho...</td>\n",
       "      <td>2018-04-29</td>\n",
       "      <td>https://www.cnbc.com/2018/04/29/reuters-americ...</td>\n",
       "      <td>LONDON, April 29 (Reuters) - Movie producer Ha...</td>\n",
       "      <td>1742</td>\n",
       "      <td>cnbc</td>\n",
       "      <td>NaN</td>\n",
       "    </tr>\n",
       "    <tr>\n",
       "      <th>411597</th>\n",
       "      <td>Venezuela's opposition coalition likely to boy...</td>\n",
       "      <td>NaN</td>\n",
       "      <td>https://www.reuters.com/article/us-venezuela-p...</td>\n",
       "      <td>CARACAS (Reuters) - Leaders of Venezuela’s opp...</td>\n",
       "      <td>2812</td>\n",
       "      <td>reuters</td>\n",
       "      <td>article</td>\n",
       "    </tr>\n",
       "    <tr>\n",
       "      <th>411598</th>\n",
       "      <td>Anadarko, Tronox trial halted for settlement t...</td>\n",
       "      <td>2012-07-12</td>\n",
       "      <td>http://www.reuters.com/article/2012/07/12/us-a...</td>\n",
       "      <td>The two companies are locked in a $25 billion...</td>\n",
       "      <td>775</td>\n",
       "      <td>reuters</td>\n",
       "      <td>article</td>\n",
       "    </tr>\n",
       "    <tr>\n",
       "      <th>411599</th>\n",
       "      <td>Data breach hits JPMorgan, Kroger customers</td>\n",
       "      <td>2011-04-01</td>\n",
       "      <td>http://www.reuters.com/article/2011/04/02/us-e...</td>\n",
       "      <td>The data breach included some email addresses...</td>\n",
       "      <td>1808</td>\n",
       "      <td>reuters</td>\n",
       "      <td>article</td>\n",
       "    </tr>\n",
       "    <tr>\n",
       "      <th>411600</th>\n",
       "      <td>Bolivia's Morales in The Hague to petition Wor...</td>\n",
       "      <td>NaN</td>\n",
       "      <td>https://www.reuters.com/article/us-bolivia-chi...</td>\n",
       "      <td>March 19, 2018 / 10:02 AM / Updated 3 hours ag...</td>\n",
       "      <td>3191</td>\n",
       "      <td>reuters</td>\n",
       "      <td>article</td>\n",
       "    </tr>\n",
       "  </tbody>\n",
       "</table>\n",
       "<p>411547 rows × 7 columns</p>\n",
       "</div>"
      ],
      "text/plain": [
       "                                                    title        Date  \\\n",
       "0         Europe hails but won't copy Obama bank fee plan  2010-01-15   \n",
       "1       Invitation - Presentation of Sobi's Q1 2018 Re...  2018-04-19   \n",
       "2       Gold 'loves any turbulence' as metal rises fol...  2018-03-13   \n",
       "3       De Villiers ton hands South Africa commanding ...         NaN   \n",
       "4       UPDATE 8-Oil eases, but avoids stocks-style vo...  2018-02-06   \n",
       "...                                                   ...         ...   \n",
       "411596  Weinstein 'believes he will be forgiven' by Ho...  2018-04-29   \n",
       "411597  Venezuela's opposition coalition likely to boy...         NaN   \n",
       "411598  Anadarko, Tronox trial halted for settlement t...  2012-07-12   \n",
       "411599        Data breach hits JPMorgan, Kroger customers  2011-04-01   \n",
       "411600  Bolivia's Morales in The Hague to petition Wor...         NaN   \n",
       "\n",
       "                                                      url  \\\n",
       "0       http://www.reuters.com/article/2010/01/15/us-e...   \n",
       "1       http://www.cnbc.com/2018/04/19/pr-newswire-inv...   \n",
       "2       https://www.cnbc.com/2018/03/13/gold-loves-any...   \n",
       "3       https://uk.reuters.com/article/uk-cricket-test...   \n",
       "4       https://www.cnbc.com/2018/02/06/reuters-americ...   \n",
       "...                                                   ...   \n",
       "411596  https://www.cnbc.com/2018/04/29/reuters-americ...   \n",
       "411597  https://www.reuters.com/article/us-venezuela-p...   \n",
       "411598  http://www.reuters.com/article/2012/07/12/us-a...   \n",
       "411599  http://www.reuters.com/article/2011/04/02/us-e...   \n",
       "411600  https://www.reuters.com/article/us-bolivia-chi...   \n",
       "\n",
       "                                                     text  text_length  \\\n",
       "0        \"We have to see now in Europe ... whether we ...         3259   \n",
       "1       STOCKHOLM, April 19, 2018 /PRNewswire/ -- On 2...         2326   \n",
       "2       Gold was bid higher after Secretary of State R...         1640   \n",
       "3       March 11, 2018 / 10:30 AM / in 27 minutes Khaw...         2566   \n",
       "4       * Wall St slumps, volatility index nears three...         2651   \n",
       "...                                                   ...          ...   \n",
       "411596  LONDON, April 29 (Reuters) - Movie producer Ha...         1742   \n",
       "411597  CARACAS (Reuters) - Leaders of Venezuela’s opp...         2812   \n",
       "411598   The two companies are locked in a $25 billion...          775   \n",
       "411599   The data breach included some email addresses...         1808   \n",
       "411600  March 19, 2018 / 10:02 AM / Updated 3 hours ag...         3191   \n",
       "\n",
       "       news_medium news_type  \n",
       "0          reuters   article  \n",
       "1             cnbc       NaN  \n",
       "2             cnbc       NaN  \n",
       "3       uk.reuters   article  \n",
       "4             cnbc       NaN  \n",
       "...            ...       ...  \n",
       "411596        cnbc       NaN  \n",
       "411597     reuters   article  \n",
       "411598     reuters   article  \n",
       "411599     reuters   article  \n",
       "411600     reuters   article  \n",
       "\n",
       "[411547 rows x 7 columns]"
      ]
     },
     "execution_count": 177,
     "metadata": {},
     "output_type": "execute_result"
    }
   ],
   "source": [
    "#DATA CLEANING \n",
    "\n",
    "\n",
    "merged_df['text_length'] = merged_df['text'].apply(lambda text: len(text))\n",
    "\n",
    "merged_df['news_medium'] = merged_df['url'].str.extract(r'https?://([^/]+)')[0].str.replace('www.', '', regex=False).str[:-4]\n",
    "\n",
    "#Standardizing dates and getting more date information from url\n",
    "\n",
    "#Turning string dates to YYYY-MM-DD HH:MM:SS Format\n",
    "merged_df['Date'] = merged_df['Date'].apply(lambda date: parser.parse(date) if pd.notna(date) else np.NaN)\n",
    "\n",
    "\n",
    "#Getting dates from URL\n",
    "\n",
    "\n",
    "url_dates = merged_df['url'].str.extract(r'/(\\d{4})[/\\-](\\d{2})[/\\-](\\d{2})/').dropna().T.apply('-'.join)\n",
    "\n",
    "merged_df['Date'] = merged_df['Date'].fillna(url_dates)\n",
    "\n",
    "\n",
    "merged_df['Date'] = pd.to_datetime(merged_df['Date'], errors='coerce')\n",
    "\n",
    "merged_df['Date'] = merged_df['Date'].dt.strftime(\"%Y-%m-%d\")\n",
    "\n",
    "\n",
    "#News article types\n",
    "merged_df['news_type'] = merged_df['url'].str.extract(r'/([a-zA-Z]+)/')[0]\n",
    "\n",
    "merged_df\n"
   ]
  },
  {
   "cell_type": "code",
   "execution_count": null,
   "id": "34107ee1",
   "metadata": {},
   "outputs": [
    {
     "name": "stdout",
     "output_type": "stream",
     "text": [
      "Loading dataset: danidanou/Reuters_Financial_News\n",
      "DF shape: (30000, 7)\n",
      "Error creating DataFrame for danidanou/Reuters_Financial_News: [CANNOT_INFER_TYPE_FOR_FIELD] Unable to infer the type of the field `Journalists`.\n",
      "Trying with explicit string schema and records conversion...\n",
      "Successfully created Spark DataFrame with string schema for danidanou/Reuters_Financial_News\n",
      "Schema:\n",
      "root\n",
      " |-- Headline: string (nullable = true)\n",
      " |-- Journalists: string (nullable = true)\n",
      " |-- Date: string (nullable = true)\n",
      " |-- Link: string (nullable = true)\n",
      " |-- Summary: string (nullable = true)\n",
      " |-- Article: string (nullable = true)\n",
      " |-- __index_level_0__: string (nullable = true)\n",
      "\n",
      "Loading dataset: ashraq/financial-news-articles\n",
      "DF shape: (30000, 3)\n",
      "Successfully created Spark DataFrame for ashraq/financial-news-articles\n",
      "Schema:\n",
      "root\n",
      " |-- text: string (nullable = true)\n",
      " |-- title: string (nullable = true)\n",
      " |-- url: string (nullable = true)\n",
      "\n",
      "Reuters dataset loaded successfully\n",
      "+--------------------+------------------+--------------------+--------------------+--------------------+--------------------+-----------------+\n",
      "|            Headline|       Journalists|                Date|                Link|             Summary|             Article|__index_level_0__|\n",
      "+--------------------+------------------+--------------------+--------------------+--------------------+--------------------+-----------------+\n",
      "|Hitachi, GE boost...|              ['']|Mon Nov 13, 2006 ...|http://www.reuter...| TOKYO - Hitachi ...| The move comes a...|                0|\n",
      "|Volvo to cut 1,00...|              ['']|Mon Nov 13, 2006 ...|http://www.reuter...| STOCKHOLM - Truc...| After years of s...|                1|\n",
      "|European banks hi...|  ['Andrew Hurst']|Mon Nov 13, 2006 ...|http://www.reuter...| ZURICH, Nov 13 (...| Since adopting I...|                2|\n",
      "|Hitachi, GE to fo...|['Mayumi Negishi']|Mon Nov 13, 2006 ...|http://www.reuter...| TOKYO - Japan's ...| The partnership ...|                3|\n",
      "|Eddie Bauer agree...|              ['']|Mon Nov 13, 2006 ...|http://www.reuter...| - Eddie Bauer Ho...| The cash deal is...|                4|\n",
      "+--------------------+------------------+--------------------+--------------------+--------------------+--------------------+-----------------+\n",
      "only showing top 5 rows\n",
      "\n",
      "Financial News dataset loaded successfully\n",
      "+--------------------+--------------------+--------------------+\n",
      "|                text|               title|                 url|\n",
      "+--------------------+--------------------+--------------------+\n",
      "|January 2, 2018 /...|BRIEF-Bigger Capi...|https://www.reute...|\n",
      "|NEW YORK (Reuters...|Global Markets: A...|https://in.reuter...|\n",
      "|Fears of a govern...|Donald Trump is t...|https://www.cnbc....|\n",
      "| 03 PM / Updated ...|Actor Casey Affle...|https://www.reute...|\n",
      "|January 22, 2018 ...|EU mulls new link...|https://uk.reuter...|\n",
      "+--------------------+--------------------+--------------------+\n",
      "only showing top 5 rows\n",
      "\n"
     ]
    }
   ],
   "source": [
    "#reuters_df = ds_to_spark(reuters_spark, \"danidanou/Reuters_Financial_News\", 30000)\n",
    "#finnews_df = ds_to_spark(finnews_spark, \"ashraq/financial-news-articles\", 30000)\n",
    "\n",
    "# Check if successful\n",
    "#if reuters_df:\n",
    "    #print(\"Reuters dataset loaded successfully\")\n",
    "    #reuters_df.show(5)\n",
    "\n",
    "#if finnews_df:\n",
    "    #print(\"Financial News dataset loaded successfully\") \n",
    "    #finnews_df.show(5)"
   ]
  },
  {
   "cell_type": "code",
   "execution_count": null,
   "id": "6333b52b",
   "metadata": {},
   "outputs": [],
   "source": []
  },
  {
   "cell_type": "code",
   "execution_count": 4,
   "id": "6b0e54f1",
   "metadata": {},
   "outputs": [
    {
     "name": "stderr",
     "output_type": "stream",
     "text": [
      "/Users/cristianzuniga/Library/Python/3.10/lib/python/site-packages/seaborn/_oldcore.py:1119: FutureWarning: use_inf_as_na option is deprecated and will be removed in a future version. Convert inf values to NaN before operating instead.\n",
      "  with pd.option_context('mode.use_inf_as_na', True):\n"
     ]
    },
    {
     "data": {
      "text/plain": [
       "<Figure size 2400x600 with 0 Axes>"
      ]
     },
     "metadata": {},
     "output_type": "display_data"
    },
    {
     "data": {
      "image/png": "[encoded data removed]",
      "text/plain": [
       "<Figure size 640x480 with 2 Axes>"
      ]
     },
     "metadata": {},
     "output_type": "display_data"
    }
   ],
   "source": [
    "\n",
    "plt.figure(figsize=(24,6))\n",
    "\n",
    "fig, axs = plt.subplots(ncols=2)\n",
    "\n",
    "\n",
    "\n",
    "fig.suptitle('Distirbution of News Article word length')\n",
    "\n",
    "sn.histplot(data=merged_df['text_length'], ax=axs[0])\n",
    "\n",
    "sn.boxplot(data=merged_df['text_length'], ax=axs[1])\n",
    "plt.tight_layout()\n",
    "plt.show()"
   ]
  },
  {
   "cell_type": "code",
   "execution_count": 29,
   "id": "44ae5374",
   "metadata": {},
   "outputs": [
    {
     "data": {
      "text/plain": [
       "count    411601.000000\n",
       "mean       2606.701626\n",
       "std        4176.968322\n",
       "min           0.000000\n",
       "25%         534.000000\n",
       "50%        1786.000000\n",
       "75%        3293.000000\n",
       "max      218108.000000\n",
       "Name: text_length, dtype: float64"
      ]
     },
     "execution_count": 29,
     "metadata": {},
     "output_type": "execute_result"
    }
   ],
   "source": [
    "merged_df[\"text_length\"].describe()"
   ]
  },
  {
   "cell_type": "code",
   "execution_count": 16,
   "id": "cd1c76e6",
   "metadata": {},
   "outputs": [],
   "source": [
    "#We'll do 3 methods the first will be to take the first 512 words of an article (if it has it), combine into a column for a dataframe\n",
    "#The second method will be to take the middle 512 words (if available) of an article and combine into a column\n",
    "#The third will be to take the first 2000 words of an article, combine into a column \n",
    "\n",
    "from pyspark.sql.functions import substring, col, expr\n",
    "from pyspark.sql.types import IntegerType\n",
    "\n",
    "\n",
    "\n",
    "#Method one\n",
    "first_512_df = merged_df[merged_df['text_length'] >= 512]\n",
    "\n",
    "#Method two\n",
    "\n",
    "#Making a function to define middle of column\n",
    "middle_512_df = merged_df\n",
    "middle_512_df['text'] = merged_df['text'].apply(\n",
    "    lambda text: text[int((len(text) - 512) / 2):int(len(text) - (len(text) - 512) / 2)]\n",
    ")\n",
    "\n",
    "#Third_method\n",
    "first_4096_df = merged_df[merged_df[\"text_length\"] >= 4096]\n",
    "\n",
    "\n",
    "\n"
   ]
  },
  {
   "cell_type": "code",
   "execution_count": 21,
   "id": "8243703d",
   "metadata": {},
   "outputs": [
    {
     "data": {
      "text/plain": [
       "{}"
      ]
     },
     "execution_count": 21,
     "metadata": {},
     "output_type": "execute_result"
    }
   ],
   "source": [
    "tokenized_datasets"
   ]
  },
  {
   "cell_type": "code",
   "execution_count": 23,
   "id": "9abfd39a",
   "metadata": {},
   "outputs": [
    {
     "data": {
      "text/plain": [
       "Dataset({\n",
       "    features: ['title', 'url', 'text', 'text_length', '__index_level_0__'],\n",
       "    num_rows: 314651\n",
       "})"
      ]
     },
     "execution_count": 23,
     "metadata": {},
     "output_type": "execute_result"
    }
   ],
   "source": [
    "datasets_hf['first_512']"
   ]
  },
  {
   "cell_type": "code",
   "execution_count": 24,
   "id": "948ddca4",
   "metadata": {},
   "outputs": [
    {
     "data": {
      "application/vnd.jupyter.widget-view+json": {
       "model_id": "8dbf3afe7a1f4f24933fcfd9e5f002ea",
       "version_major": 2,
       "version_minor": 0
      },
      "text/plain": [
       "Map:   0%|          | 0/314651 [00:00<?, ? examples/s]"
      ]
     },
     "metadata": {},
     "output_type": "display_data"
    },
    {
     "data": {
      "application/vnd.jupyter.widget-view+json": {
       "model_id": "15f19f06f2724947975eca4ab2ed4372",
       "version_major": 2,
       "version_minor": 0
      },
      "text/plain": [
       "Map:   0%|          | 0/411601 [00:00<?, ? examples/s]"
      ]
     },
     "metadata": {},
     "output_type": "display_data"
    },
    {
     "data": {
      "application/vnd.jupyter.widget-view+json": {
       "model_id": "ee47a987c1e544db93602028a2563200",
       "version_major": 2,
       "version_minor": 0
      },
      "text/plain": [
       "Map:   0%|          | 0/67030 [00:00<?, ? examples/s]"
      ]
     },
     "metadata": {},
     "output_type": "display_data"
    }
   ],
   "source": [
    "#The third method will feed into a longform tranfsformer for pretraining\n",
    "#The second method and first method will feed into a DistilBERT for pretraining\n",
    "#We'll use a one lstm that will train on the first 512 words (benchmark, to be added later)\n",
    "\n",
    "\n",
    "#Bert tokenizer\n",
    "bert_tokenizer = AutoTokenizer.from_pretrained('distilbert/distilbert-base-uncased')\n",
    "lf_tokenizer = AutoTokenizer.from_pretrained('distilbert/distilbert-base-uncased')\n",
    "\n",
    "datasets_pd = {\n",
    "    'first_512': first_512_df,\n",
    "    'middle_512': middle_512_df, \n",
    "    'first_4096': first_4096_df\n",
    "}\n",
    "\n",
    "    \n",
    "# Tokenize\n",
    "datasets_hf = {\n",
    "    name: Dataset.from_pandas(df) \n",
    "    for name, df in datasets_pd.items()\n",
    "}\n",
    "\n",
    "\n",
    "configs = [\n",
    "    {'name': 'first_512', 'tokenizer': bert_tokenizer, 'max_length': 512},\n",
    "    {'name': 'middle_512', 'tokenizer': bert_tokenizer, 'max_length': 512},\n",
    "    {'name': 'first_4096', 'tokenizer': lf_tokenizer, 'max_length': 4096}\n",
    "]\n",
    "\n",
    "\n",
    "tokenized_datasets = {}\n",
    "\n",
    "\n",
    "for config in configs:\n",
    "    tokenized_datasets[config['name']] = datasets_hf[config['name']].map(\n",
    "        lambda examples: config['tokenizer'](\n",
    "            examples['text'],  # adjust column name as needed\n",
    "            truncation=True,\n",
    "            padding='max_length',\n",
    "            max_length=config['max_length'],\n",
    "            return_tensors='pt'\n",
    "        ),\n",
    "        batched=True\n",
    "    )"
   ]
  },
  {
   "cell_type": "code",
   "execution_count": 25,
   "id": "0b454c42",
   "metadata": {},
   "outputs": [
    {
     "data": {
      "application/vnd.jupyter.widget-view+json": {
       "model_id": "e71fb78ff9eb40969458febad2aeca16",
       "version_major": 2,
       "version_minor": 0
      },
      "text/plain": [
       "Uploading the dataset shards:   0%|          | 0/4 [00:00<?, ?it/s]"
      ]
     },
     "metadata": {},
     "output_type": "display_data"
    },
    {
     "data": {
      "application/vnd.jupyter.widget-view+json": {
       "model_id": "b5c9cb51f8a84ffaa0d42d9e9a3ad24a",
       "version_major": 2,
       "version_minor": 0
      },
      "text/plain": [
       "Creating parquet from Arrow format:   0%|          | 0/79 [00:00<?, ?ba/s]"
      ]
     },
     "metadata": {},
     "output_type": "display_data"
    },
    {
     "data": {
      "application/vnd.jupyter.widget-view+json": {
       "model_id": "63ab00b973004633ad9996c42d1bb58b",
       "version_major": 2,
       "version_minor": 0
      },
      "text/plain": [
       "Creating parquet from Arrow format:   0%|          | 0/79 [00:00<?, ?ba/s]"
      ]
     },
     "metadata": {},
     "output_type": "display_data"
    },
    {
     "data": {
      "application/vnd.jupyter.widget-view+json": {
       "model_id": "9e9b7f4ec0f041e3ba798e02b54a0e86",
       "version_major": 2,
       "version_minor": 0
      },
      "text/plain": [
       "Creating parquet from Arrow format:   0%|          | 0/79 [00:00<?, ?ba/s]"
      ]
     },
     "metadata": {},
     "output_type": "display_data"
    },
    {
     "data": {
      "application/vnd.jupyter.widget-view+json": {
       "model_id": "af724a0041e4454bbdffda81ea5310ee",
       "version_major": 2,
       "version_minor": 0
      },
      "text/plain": [
       "Creating parquet from Arrow format:   0%|          | 0/79 [00:00<?, ?ba/s]"
      ]
     },
     "metadata": {},
     "output_type": "display_data"
    },
    {
     "data": {
      "application/vnd.jupyter.widget-view+json": {
       "model_id": "e3c1ecd1cb6647c981000c72d91e9587",
       "version_major": 2,
       "version_minor": 0
      },
      "text/plain": [
       "README.md:   0%|          | 0.00/369 [00:00<?, ?B/s]"
      ]
     },
     "metadata": {},
     "output_type": "display_data"
    },
    {
     "data": {
      "application/vnd.jupyter.widget-view+json": {
       "model_id": "512fbd6610fd4e5c935c7ae5bdb93cc4",
       "version_major": 2,
       "version_minor": 0
      },
      "text/plain": [
       "Uploading the dataset shards:   0%|          | 0/3 [00:00<?, ?it/s]"
      ]
     },
     "metadata": {},
     "output_type": "display_data"
    },
    {
     "data": {
      "application/vnd.jupyter.widget-view+json": {
       "model_id": "198fd9bb92f5451b931c74c734805a6f",
       "version_major": 2,
       "version_minor": 0
      },
      "text/plain": [
       "Creating parquet from Arrow format:   0%|          | 0/138 [00:00<?, ?ba/s]"
      ]
     },
     "metadata": {},
     "output_type": "display_data"
    },
    {
     "data": {
      "application/vnd.jupyter.widget-view+json": {
       "model_id": "cc5fd16d20c5480591f6c12eb13fb389",
       "version_major": 2,
       "version_minor": 0
      },
      "text/plain": [
       "Creating parquet from Arrow format:   0%|          | 0/138 [00:00<?, ?ba/s]"
      ]
     },
     "metadata": {},
     "output_type": "display_data"
    },
    {
     "data": {
      "application/vnd.jupyter.widget-view+json": {
       "model_id": "7238fbddf4024e10b5d575deaa684916",
       "version_major": 2,
       "version_minor": 0
      },
      "text/plain": [
       "Creating parquet from Arrow format:   0%|          | 0/138 [00:00<?, ?ba/s]"
      ]
     },
     "metadata": {},
     "output_type": "display_data"
    },
    {
     "data": {
      "application/vnd.jupyter.widget-view+json": {
       "model_id": "f0b607a353024254babc08136026cda1",
       "version_major": 2,
       "version_minor": 0
      },
      "text/plain": [
       "README.md:   0%|          | 0.00/370 [00:00<?, ?B/s]"
      ]
     },
     "metadata": {},
     "output_type": "display_data"
    },
    {
     "data": {
      "application/vnd.jupyter.widget-view+json": {
       "model_id": "2840518fba47489f913f3a2f84a7b98f",
       "version_major": 2,
       "version_minor": 0
      },
      "text/plain": [
       "Uploading the dataset shards:   0%|          | 0/3 [00:00<?, ?it/s]"
      ]
     },
     "metadata": {},
     "output_type": "display_data"
    },
    {
     "data": {
      "application/vnd.jupyter.widget-view+json": {
       "model_id": "783b28393ba24f978c0b0e36a430e818",
       "version_major": 2,
       "version_minor": 0
      },
      "text/plain": [
       "Creating parquet from Arrow format:   0%|          | 0/23 [00:00<?, ?ba/s]"
      ]
     },
     "metadata": {},
     "output_type": "display_data"
    },
    {
     "data": {
      "application/vnd.jupyter.widget-view+json": {
       "model_id": "3a4364a1cdf242f2a6f6e262a958bb21",
       "version_major": 2,
       "version_minor": 0
      },
      "text/plain": [
       "Creating parquet from Arrow format:   0%|          | 0/23 [00:00<?, ?ba/s]"
      ]
     },
     "metadata": {},
     "output_type": "display_data"
    },
    {
     "data": {
      "application/vnd.jupyter.widget-view+json": {
       "model_id": "16e587673c94481990813df149246cc9",
       "version_major": 2,
       "version_minor": 0
      },
      "text/plain": [
       "Creating parquet from Arrow format:   0%|          | 0/23 [00:00<?, ?ba/s]"
      ]
     },
     "metadata": {},
     "output_type": "display_data"
    },
    {
     "data": {
      "application/vnd.jupyter.widget-view+json": {
       "model_id": "4af8ea9dd5f6485e8acacb1f21d3dedd",
       "version_major": 2,
       "version_minor": 0
      },
      "text/plain": [
       "README.md:   0%|          | 0.00/369 [00:00<?, ?B/s]"
      ]
     },
     "metadata": {},
     "output_type": "display_data"
    }
   ],
   "source": [
    "for dataset in tokenized_datasets.keys():\n",
    "    tokenized_datasets[dataset].push_to_hub(f\"Czunzun/Financial_news_{dataset}\")"
   ]
  },
  {
   "cell_type": "code",
   "execution_count": 15,
   "id": "9ca65c6b",
   "metadata": {},
   "outputs": [
    {
     "data": {
      "text/plain": [
       "True"
      ]
     },
     "execution_count": 15,
     "metadata": {},
     "output_type": "execute_result"
    }
   ],
   "source": [
    "169826664 > 35833704"
   ]
  },
  {
   "cell_type": "code",
   "execution_count": null,
   "id": "c16cb4fb",
   "metadata": {},
   "outputs": [],
   "source": []
  }
 ],
 "metadata": {
  "kernelspec": {
   "display_name": "Python 3",
   "language": "python",
   "name": "python3"
  },
  "language_info": {
   "codemirror_mode": {
    "name": "ipython",
    "version": 3
   },
   "file_extension": ".py",
   "mimetype": "text/x-python",
   "name": "python",
   "nbconvert_exporter": "python",
   "pygments_lexer": "ipython3",
   "version": "3.10.17"
  }
 },
 "nbformat": 4,
 "nbformat_minor": 5
}
