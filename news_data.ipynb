{
 "cells": [
  {
   "cell_type": "code",
   "execution_count": 1,
   "id": "5f448925",
   "metadata": {},
   "outputs": [],
   "source": [
    "from pyspark.sql import SparkSession\n",
    "from pyspark import SparkContext\n",
    "from pyspark import SparkFiles\n",
    "import pandas as pd\n",
    "import numpy as np\n",
    "from transformers import BertTokenizer, AutoTokenizer\n",
    "import seaborn as sn\n",
    "import matplotlib.pyplot as plt\n",
    "from datasets import Dataset\n",
    "from datasets import load_dataset\n",
    "from pyspark.sql import SparkSession\n",
    "from pyspark.sql.functions import length\n"
   ]
  },
  {
   "cell_type": "code",
   "execution_count": 2,
   "id": "420065e3",
   "metadata": {},
   "outputs": [],
   "source": [
    "import os\n",
    "import sys\n",
    "from dotenv import load_dotenv\n",
    "\n",
    "#For Desktop \n",
    "#os.environ['PYSPARK_PYTHON'] = sys.executable\n",
    "#os.environ['PYSPARK_DRIVER_PYTHON'] = sys.executable\n",
    "\n",
    "from huggingface_hub import login\n",
    "\n",
    "#For Desktop\n",
    "#login(token=os.getenv(\"HF_MASTER_KEY\"))\n",
    "\n",
    "#For Macbook\n",
    "load_dotenv()\n",
    "login(token=os.getenv(\"MACBOOK_HF_KEY\"))\n",
    "\n",
    "# Clear conflicting environment variables\n",
    "if 'PYTHONPATH' in os.environ:\n",
    "    del os.environ['PYTHONPATH']\n",
    "\n",
    "# Set clean Python path for PySpark\n",
    "os.environ['PYSPARK_PYTHON'] = sys.executable\n",
    "os.environ['PYSPARK_DRIVER_PYTHON'] = sys.executable\n"
   ]
  },
  {
   "cell_type": "code",
   "execution_count": 3,
   "id": "0849b7a3",
   "metadata": {},
   "outputs": [
    {
     "name": "stderr",
     "output_type": "stream",
     "text": [
      "Setting default log level to \"WARN\".\n",
      "To adjust logging level use sc.setLogLevel(newLevel). For SparkR, use setLogLevel(newLevel).\n"
     ]
    },
    {
     "name": "stdout",
     "output_type": "stream",
     "text": [
      "25/06/24 18:28:30 WARN NativeCodeLoader: Unable to load native-hadoop library for your platform... using builtin-java classes where applicable\n",
      "25/06/24 18:28:32 WARN SparkSession: Using an existing Spark session; only runtime SQL configurations will take effect.\n"
     ]
    }
   ],
   "source": [
    "from pyspark.sql import SparkSession\n",
    "from datasets import load_dataset\n",
    "import pandas as pd\n",
    "\n",
    "# Test run with Reuters and Ashraq financial news dataset\n",
    "reuters_spark = SparkSession.builder.appName(\"ReutersNews\").getOrCreate()\n",
    "finnews_spark = SparkSession.builder.appName('FinNews').getOrCreate()\n",
    "\n",
    "# Dictionary mapping spark sessions to dataset names\n",
    "spark_dataset_mapping = {\n",
    "    reuters_spark: \"danidanou/Reuters_Financial_News\",\n",
    "    finnews_spark: \"ashraq/financial-news-articles\"\n",
    "}\n",
    "\n",
    "def ds_to_spark(spark_session, dataset_name, dataset_size=10000):\n",
    "    \"\"\"\n",
    "    Convert a HuggingFace dataset to a Spark DataFrame\n",
    "    \n",
    "    Args:\n",
    "        spark_session: Active Spark session\n",
    "        dataset_name: HuggingFace dataset name/path\n",
    "        dataset_size: Number of rows to load (default: 10000)\n",
    "    \n",
    "    Returns:\n",
    "        Spark DataFrame or None if failed\n",
    "    \"\"\"\n",
    "    from pyspark.sql.types import StructType, StructField, StringType\n",
    "    \n",
    "    print(f\"Loading dataset: {dataset_name}\")\n",
    "    \n",
    "    try:\n",
    "        # Load HuggingFace dataset with size limit\n",
    "        hf_df = load_dataset(dataset_name, split=f'train[:{dataset_size}]')\n",
    "        \n",
    "        # Convert to pandas\n",
    "        pd_df = hf_df.to_pandas()\n",
    "        \n",
    "        print(f\"DF shape: {pd_df.shape}\")\n",
    "        \n",
    "        # Check and clean columns\n",
    "        for col in pd_df.columns:\n",
    "            if pd_df[col].dtype == 'object':\n",
    "                # Get a sample of non-null values\n",
    "                non_null_values = pd_df[col].dropna()\n",
    "                \n",
    "                if len(non_null_values) > 0:\n",
    "                    # Check the first few values to determine type\n",
    "                    sample_value = non_null_values.iloc[0]\n",
    "                    \n",
    "                    if isinstance(sample_value, (list, dict)):\n",
    "                        # Convert complex types to string\n",
    "                        pd_df[col] = pd_df[col].apply(lambda x: str(x) if x is not None else \"\")\n",
    "                        print(f\"Converted col '{col}' to string\")\n",
    "        \n",
    "        # Fill null values\n",
    "        pd_df = pd_df.fillna(\"\")\n",
    "        \n",
    "        try:\n",
    "            # Convert pandas DataFrame to list of Row objects for compatibility\n",
    "            records = pd_df.to_dict('records')\n",
    "            spark_df = spark_session.createDataFrame(records)\n",
    "            print(f\"Successfully created Spark DataFrame for {dataset_name}\")\n",
    "            print(\"Schema:\")\n",
    "            spark_df.printSchema()\n",
    "            return spark_df\n",
    "            \n",
    "        except Exception as e:\n",
    "            print(f\"Error creating DataFrame for {dataset_name}: {e}\")\n",
    "            \n",
    "            # Alternative approach: Define explicit schema and use records\n",
    "            print(\"Trying with explicit string schema and records conversion...\")\n",
    "            \n",
    "            try:\n",
    "                # Create schema with all string types\n",
    "                string_schema = StructType([\n",
    "                    StructField(col, StringType(), True) for col in pd_df.columns\n",
    "                ])\n",
    "                \n",
    "                # Convert all columns to string\n",
    "                pd_df_str = pd_df.astype(str)\n",
    "                \n",
    "                # Convert to records format\n",
    "                records = pd_df_str.to_dict('records')\n",
    "                \n",
    "                # Create Spark DataFrame with explicit schema\n",
    "                spark_df = spark_session.createDataFrame(records, schema=string_schema)\n",
    "                print(f\"Successfully created Spark DataFrame with string schema for {dataset_name}\")\n",
    "                print(\"Schema:\")\n",
    "                spark_df.printSchema()\n",
    "                return spark_df\n",
    "                \n",
    "            except Exception as e2:\n",
    "                print(f\"Failed even with string schema and records: {e2}\")\n",
    "                \n",
    "                # Last resort: Manual row creation\n",
    "                print(\"Trying manual row creation...\")\n",
    "                try:\n",
    "                    from pyspark.sql import Row\n",
    "                    \n",
    "                    # Create Row objects manually\n",
    "                    Row = Row(*pd_df.columns)\n",
    "                    rows = [Row(*[str(val) for val in row]) for row in pd_df.values]\n",
    "                    \n",
    "                    spark_df = spark_session.createDataFrame(rows)\n",
    "                    print(f\"Successfully created Spark DataFrame with manual row creation for {dataset_name}\")\n",
    "                    print(\"Schema:\")\n",
    "                    spark_df.printSchema()\n",
    "                    return spark_df\n",
    "                    \n",
    "                except Exception as e3:\n",
    "                    print(f\"All methods failed for {dataset_name}: {e3}\")\n",
    "                    return None\n",
    "    \n",
    "    except Exception as e:\n",
    "        print(f\"Error loading dataset {dataset_name}: {e}\")\n",
    "        return None\n",
    "\n"
   ]
  },
  {
   "cell_type": "code",
   "execution_count": 6,
   "id": "34107ee1",
   "metadata": {},
   "outputs": [
    {
     "name": "stdout",
     "output_type": "stream",
     "text": [
      "Loading dataset: danidanou/Reuters_Financial_News\n",
      "DF shape: (10000, 7)\n",
      "Error creating DataFrame for danidanou/Reuters_Financial_News: Unable to infer the type of the field Journalists.\n",
      "Trying with explicit string schema and records conversion...\n",
      "Successfully created Spark DataFrame with string schema for danidanou/Reuters_Financial_News\n",
      "Schema:\n",
      "root\n",
      " |-- Headline: string (nullable = true)\n",
      " |-- Journalists: string (nullable = true)\n",
      " |-- Date: string (nullable = true)\n",
      " |-- Link: string (nullable = true)\n",
      " |-- Summary: string (nullable = true)\n",
      " |-- Article: string (nullable = true)\n",
      " |-- __index_level_0__: string (nullable = true)\n",
      "\n",
      "Loading dataset: ashraq/financial-news-articles\n",
      "DF shape: (10000, 3)\n",
      "Successfully created Spark DataFrame for ashraq/financial-news-articles\n",
      "Schema:\n",
      "root\n",
      " |-- text: string (nullable = true)\n",
      " |-- title: string (nullable = true)\n",
      " |-- url: string (nullable = true)\n",
      "\n",
      "Reuters dataset loaded successfully\n",
      "25/06/24 18:43:16 WARN TaskSetManager: Stage 2 contains a task of very large size (3133 KiB). The maximum recommended task size is 1000 KiB.\n",
      "+--------------------+------------------+--------------------+--------------------+--------------------+--------------------+-----------------+\n",
      "|            Headline|       Journalists|                Date|                Link|             Summary|             Article|__index_level_0__|\n",
      "+--------------------+------------------+--------------------+--------------------+--------------------+--------------------+-----------------+\n",
      "|Hitachi, GE boost...|              ['']|Mon Nov 13, 2006 ...|http://www.reuter...| TOKYO - Hitachi ...| The move comes a...|                0|\n",
      "|Volvo to cut 1,00...|              ['']|Mon Nov 13, 2006 ...|http://www.reuter...| STOCKHOLM - Truc...| After years of s...|                1|\n",
      "|European banks hi...|  ['Andrew Hurst']|Mon Nov 13, 2006 ...|http://www.reuter...| ZURICH, Nov 13 (...| Since adopting I...|                2|\n",
      "|Hitachi, GE to fo...|['Mayumi Negishi']|Mon Nov 13, 2006 ...|http://www.reuter...| TOKYO - Japan's ...| The partnership ...|                3|\n",
      "|Eddie Bauer agree...|              ['']|Mon Nov 13, 2006 ...|http://www.reuter...| - Eddie Bauer Ho...| The cash deal is...|                4|\n",
      "+--------------------+------------------+--------------------+--------------------+--------------------+--------------------+-----------------+\n",
      "only showing top 5 rows\n",
      "\n",
      "Financial News dataset loaded successfully\n",
      "25/06/24 18:43:16 WARN TaskSetManager: Stage 3 contains a task of very large size (2573 KiB). The maximum recommended task size is 1000 KiB.\n",
      "+--------------------+--------------------+--------------------+\n",
      "|                text|               title|                 url|\n",
      "+--------------------+--------------------+--------------------+\n",
      "|January 2, 2018 /...|BRIEF-Bigger Capi...|https://www.reute...|\n",
      "|NEW YORK (Reuters...|Global Markets: A...|https://in.reuter...|\n",
      "|Fears of a govern...|Donald Trump is t...|https://www.cnbc....|\n",
      "| 03 PM / Updated ...|Actor Casey Affle...|https://www.reute...|\n",
      "|January 22, 2018 ...|EU mulls new link...|https://uk.reuter...|\n",
      "+--------------------+--------------------+--------------------+\n",
      "only showing top 5 rows\n",
      "\n"
     ]
    }
   ],
   "source": [
    "reuters_df = ds_to_spark(reuters_spark, \"danidanou/Reuters_Financial_News\", 10000)\n",
    "finnews_df = ds_to_spark(finnews_spark, \"ashraq/financial-news-articles\", 10000)\n",
    "\n",
    "# Check if successful\n",
    "if reuters_df:\n",
    "    print(\"Reuters dataset loaded successfully\")\n",
    "    reuters_df.show(5)\n",
    "\n",
    "if finnews_df:\n",
    "    print(\"Financial News dataset loaded successfully\") \n",
    "    finnews_df.show(5)"
   ]
  },
  {
   "cell_type": "code",
   "execution_count": 7,
   "id": "169bd73e",
   "metadata": {},
   "outputs": [],
   "source": [
    "#Now we need to concat the two spark dataframes\n",
    "from pyspark.sql.functions import col\n",
    "\n",
    "reuters_df = reuters_df.select(col(\"Headline\").alias(\"title\"), col(\"Link\").alias(\"url\"), col(\"Article\").alias(\"text\"))\n",
    "reuters_df = reuters_df.drop(*('Journalists', 'Date', 'Summary', '__index_level_0__'))\n",
    "\n",
    "df = reuters_df.unionByName(finnews_df)\n"
   ]
  },
  {
   "cell_type": "code",
   "execution_count": 8,
   "id": "cfe02363",
   "metadata": {},
   "outputs": [],
   "source": [
    "#Shuffling the rows\n",
    "\n",
    "from pyspark.sql.functions import rand\n",
    "df = df.withColumn(\"rand_key\", rand())\n",
    "df = df.orderBy(\"rand_key\")\n",
    "df = df.drop(\"rand_key\")"
   ]
  },
  {
   "cell_type": "code",
   "execution_count": 9,
   "id": "523e266f",
   "metadata": {},
   "outputs": [
    {
     "name": "stdout",
     "output_type": "stream",
     "text": [
      "25/06/24 18:44:49 WARN TaskSetManager: Stage 4 contains a task of very large size (3133 KiB). The maximum recommended task size is 1000 KiB.\n",
      "+--------------------+--------------------+--------------------+\n",
      "|               title|                 url|                text|\n",
      "+--------------------+--------------------+--------------------+\n",
      "|Great Artists but...|https://www.wsj.c...|Terry Teachout re...|\n",
      "|Target same-store...|http://www.reuter...| Analysts, on ave...|\n",
      "|Zona euro, econom...|https://it.reuter...|BRUSSELS, Jan 8 (...|\n",
      "|Golf: Thai duo le...|https://www.reute...|January 20, 2018 ...|\n",
      "|One Year in, Trum...|https://www.wsj.c...|On the second day...|\n",
      "+--------------------+--------------------+--------------------+\n",
      "only showing top 5 rows\n",
      "\n"
     ]
    },
    {
     "name": "stderr",
     "output_type": "stream",
     "text": [
      "                                                                                \r"
     ]
    }
   ],
   "source": [
    "df.show(5)"
   ]
  },
  {
   "cell_type": "code",
   "execution_count": null,
   "id": "6b0e54f1",
   "metadata": {},
   "outputs": [
    {
     "data": {
      "text/plain": [
       "<Figure size 2400x600 with 0 Axes>"
      ]
     },
     "metadata": {},
     "output_type": "display_data"
    },
    {
     "data": {
      "image/png": "[encoded data removed]",
      "text/plain": [
       "<Figure size 640x480 with 2 Axes>"
      ]
     },
     "metadata": {},
     "output_type": "display_data"
    }
   ],
   "source": [
    "\n",
    "plt.figure(figsize=(24,6))\n",
    "\n",
    "fig, axs = plt.subplots(ncols=2)\n",
    "\n",
    "article_length_series = df.select(\"Article_length\").toPandas().squeeze()\n",
    "\n",
    "\n",
    "fig.suptitle('Distirbution of Reuter Article word length')\n",
    "\n",
    "sn.histplot(data=article_length_series, ax=axs[0])\n",
    "\n",
    "sn.boxplot(data=article_length_series, ax=axs[1])\n",
    "plt.tight_layout()\n",
    "plt.show()"
   ]
  },
  {
   "cell_type": "code",
   "execution_count": null,
   "id": "cd1c76e6",
   "metadata": {},
   "outputs": [],
   "source": [
    "#We'll do 3 methods the first will be to take the first 512 words of an article (if it has it), combine into a column for a dataframe\n",
    "#The second method will be to take the middle 512 words (if available) of an article and combine into a column\n",
    "#The third will be to take the first 2000 words of an article, combine into a column \n",
    "\n",
    "from pyspark.sql.functions import substring, col, expr\n",
    "from pyspark.sql.types import IntegerType\n",
    "\n",
    "word_df = df.filter(\"Article_length >= 512\")\n",
    "\n",
    "#Method one\n",
    "first_512_df = word_df.withColumn(\"first_512\", substring(\"Article\", 1, 512)).select(\"first_512\")\n",
    "\n",
    "#Method two\n",
    "\n",
    "#Making a function to define middle of column\n",
    "\n",
    "middle_512_df = word_df.withColumn(\n",
    "    \"middle_512\",\n",
    "    expr(\"substring(Article, (Article_length - 512) / 2, Article_length - (Article_length - 512) / 2)\")\n",
    ").select(\"middle_512\")\n",
    "\n",
    "#Third_method\n",
    "word_df = df.filter(\"Article_length <= 4096\")\n",
    "\n",
    "first_4096_df = word_df.withColumn(\"first_4096\", substring(\"Article\", 1, 4096)).select(\"first_4096\")\n",
    "\n",
    "\n",
    "\n",
    "\n"
   ]
  },
  {
   "cell_type": "code",
   "execution_count": null,
   "id": "3f247ed9",
   "metadata": {},
   "outputs": [
    {
     "name": "stderr",
     "output_type": "stream",
     "text": [
      "c:\\Users\\Omar\\AppData\\Local\\Programs\\Python\\Python310\\lib\\site-packages\\huggingface_hub\\file_download.py:143: UserWarning: `huggingface_hub` cache-system uses symlinks by default to efficiently store duplicated files but your machine does not support them in C:\\Users\\Omar\\.cache\\huggingface\\hub\\models--allenai--longformer-base-4096. Caching files will still work but in a degraded version that might require more space on your disk. This warning can be disabled by setting the `HF_HUB_DISABLE_SYMLINKS_WARNING` environment variable. For more details, see https://huggingface.co/docs/huggingface_hub/how-to-cache#limitations.\n",
      "To support symlinks on Windows, you either need to activate Developer Mode or to run Python as an administrator. In order to activate developer mode, see this article: https://docs.microsoft.com/en-us/windows/apps/get-started/enable-your-device-for-development\n",
      "  warnings.warn(message)\n",
      "Xet Storage is enabled for this repo, but the 'hf_xet' package is not installed. Falling back to regular HTTP download. For better performance, install the package with: `pip install huggingface_hub[hf_xet]` or `pip install hf_xet`\n",
      "c:\\Users\\Omar\\AppData\\Local\\Programs\\Python\\Python310\\lib\\site-packages\\huggingface_hub\\file_download.py:143: UserWarning: `huggingface_hub` cache-system uses symlinks by default to efficiently store duplicated files but your machine does not support them in C:\\Users\\Omar\\.cache\\huggingface\\hub\\models--google-bert--bert-base-uncased. Caching files will still work but in a degraded version that might require more space on your disk. This warning can be disabled by setting the `HF_HUB_DISABLE_SYMLINKS_WARNING` environment variable. For more details, see https://huggingface.co/docs/huggingface_hub/how-to-cache#limitations.\n",
      "To support symlinks on Windows, you either need to activate Developer Mode or to run Python as an administrator. In order to activate developer mode, see this article: https://docs.microsoft.com/en-us/windows/apps/get-started/enable-your-device-for-development\n",
      "  warnings.warn(message)\n",
      "Xet Storage is enabled for this repo, but the 'hf_xet' package is not installed. Falling back to regular HTTP download. For better performance, install the package with: `pip install huggingface_hub[hf_xet]` or `pip install hf_xet`\n"
     ]
    }
   ],
   "source": [
    "#The third method will feed into a longform tranfsformer for pretraining\n",
    "#The second method and first method will feed into a standard bert for pretraining\n",
    "#We'll use a one lstm that will train on the first 512 words (benchmark, to be added later)\n",
    "\n",
    "\n",
    "#Importing the models\n",
    "\n",
    "\n",
    "#The longformer model\n",
    "lf_tokenizer = LongformerTokenizer.from_pretrained(\"allenai/longformer-base-4096\")\n",
    "lf_model = LongformerForMaskedLM.from_pretrained(\"allenai/longformer-base-4096\")\n",
    "\n",
    "\n",
    "#Bert model\n",
    "bert_tokenizer = BertTokenizer.from_pretrained('google-bert/bert-base-uncased')\n",
    "bert_model = BertTokenizer.from_pretrained(\"google-bert/bert-base-uncased\")\n",
    "\n"
   ]
  },
  {
   "cell_type": "markdown",
   "id": "a53a9f12",
   "metadata": {},
   "source": [
    "(06/17/25)\n",
    "The step below could use optimzation "
   ]
  },
  {
   "cell_type": "code",
   "execution_count": null,
   "id": "73f6e281",
   "metadata": {},
   "outputs": [
    {
     "data": {
      "text/html": [
       "<div>\n",
       "<style scoped>\n",
       "    .dataframe tbody tr th:only-of-type {\n",
       "        vertical-align: middle;\n",
       "    }\n",
       "\n",
       "    .dataframe tbody tr th {\n",
       "        vertical-align: top;\n",
       "    }\n",
       "\n",
       "    .dataframe thead th {\n",
       "        text-align: right;\n",
       "    }\n",
       "</style>\n",
       "<table border=\"1\" class=\"dataframe\">\n",
       "  <thead>\n",
       "    <tr style=\"text-align: right;\">\n",
       "      <th></th>\n",
       "      <th>text</th>\n",
       "    </tr>\n",
       "  </thead>\n",
       "  <tbody>\n",
       "    <tr>\n",
       "      <th>0</th>\n",
       "      <td>The move comes a month after France's Areva C...</td>\n",
       "    </tr>\n",
       "    <tr>\n",
       "      <th>1</th>\n",
       "      <td>After years of strong demand truck makers see...</td>\n",
       "    </tr>\n",
       "    <tr>\n",
       "      <th>2</th>\n",
       "      <td>Since adopting International Financial Report...</td>\n",
       "    </tr>\n",
       "    <tr>\n",
       "      <th>3</th>\n",
       "      <td>The partnership would help Hitachi, Japan's b...</td>\n",
       "    </tr>\n",
       "    <tr>\n",
       "      <th>4</th>\n",
       "      <td>IBM Global Financing, a unit of the world's l...</td>\n",
       "    </tr>\n",
       "    <tr>\n",
       "      <th>...</th>\n",
       "      <td>...</td>\n",
       "    </tr>\n",
       "    <tr>\n",
       "      <th>97461</th>\n",
       "      <td>Last Tuesday, an upgrade of Goldman's interna...</td>\n",
       "    </tr>\n",
       "    <tr>\n",
       "      <th>97462</th>\n",
       "      <td>Its car sales jumped 25 percent to more than ...</td>\n",
       "    </tr>\n",
       "    <tr>\n",
       "      <th>97463</th>\n",
       "      <td>The founder and president of Muriel Siebert &amp;...</td>\n",
       "    </tr>\n",
       "    <tr>\n",
       "      <th>97464</th>\n",
       "      <td>Amgen shares rose 9 percent in midday trade o...</td>\n",
       "    </tr>\n",
       "    <tr>\n",
       "      <th>97465</th>\n",
       "      <td>The appointment, which was widely expected, c...</td>\n",
       "    </tr>\n",
       "  </tbody>\n",
       "</table>\n",
       "<p>97466 rows × 1 columns</p>\n",
       "</div>"
      ],
      "text/plain": [
       "                                                    text\n",
       "0       The move comes a month after France's Areva C...\n",
       "1       After years of strong demand truck makers see...\n",
       "2       Since adopting International Financial Report...\n",
       "3       The partnership would help Hitachi, Japan's b...\n",
       "4       IBM Global Financing, a unit of the world's l...\n",
       "...                                                  ...\n",
       "97461   Last Tuesday, an upgrade of Goldman's interna...\n",
       "97462   Its car sales jumped 25 percent to more than ...\n",
       "97463   The founder and president of Muriel Siebert &...\n",
       "97464   Amgen shares rose 9 percent in midday trade o...\n",
       "97465   The appointment, which was widely expected, c...\n",
       "\n",
       "[97466 rows x 1 columns]"
      ]
     },
     "execution_count": 16,
     "metadata": {},
     "output_type": "execute_result"
    }
   ],
   "source": [
    "datasets_pd['first_512'].rename(columns={'first_512': 'text'})"
   ]
  },
  {
   "cell_type": "code",
   "execution_count": null,
   "id": "948ddca4",
   "metadata": {},
   "outputs": [
    {
     "name": "stderr",
     "output_type": "stream",
     "text": [
      "Map: 100%|██████████| 97466/97466 [01:28<00:00, 1098.04 examples/s]\n",
      "Map: 100%|██████████| 97466/97466 [04:23<00:00, 369.29 examples/s]\n",
      "Map: 100%|██████████| 82673/82673 [02:41<00:00, 511.36 examples/s]\n"
     ]
    }
   ],
   "source": [
    "datasets_pd = {\n",
    "    'first_512': first_512_df.toPandas(),\n",
    "    'middle_512': middle_512_df.toPandas(), \n",
    "    'first_4096': first_4096_df.toPandas()\n",
    "}\n",
    "#standardizing text name col\n",
    "for df in datasets_pd.keys():\n",
    "    datasets_pd[df].rename(columns={df:'text'})\n",
    "    \n",
    "    \n",
    "# Tokenize\n",
    "datasets_hf = {\n",
    "    name: Dataset.from_pandas(df) \n",
    "    for name, df in datasets_pd.items()\n",
    "}\n",
    "configs = [\n",
    "    {'name': 'first_512', 'tokenizer': bert_tokenizer, 'max_length': 512},\n",
    "    {'name': 'middle_512', 'tokenizer': bert_tokenizer, 'max_length': 512},\n",
    "    {'name': 'first_4096', 'tokenizer': lf_tokenizer, 'max_length': 4096}\n",
    "]\n",
    "\n",
    "\n",
    "tokenized_datasets = {}\n",
    "for config in configs:\n",
    "    tokenized_datasets[config['name']] = datasets_hf[config['name']].map(\n",
    "        lambda examples: config['tokenizer'](\n",
    "            examples[config['name']],  # adjust column name as needed\n",
    "            truncation=True,\n",
    "            padding='max_length',\n",
    "            max_length=config['max_length'],\n",
    "            return_tensors='pt'\n",
    "        ),\n",
    "        batched=True\n",
    "    )"
   ]
  },
  {
   "cell_type": "code",
   "execution_count": null,
   "id": "fb41cfd5",
   "metadata": {},
   "outputs": [],
   "source": [
    "#The datasets require too much compute time, so I will save them for later use\n",
    "from huggingface_hub import login\n",
    "import os\n",
    "access_token = os.getenv(\"HS_MASTER_KEY\")\n",
    "\n",
    "login(token=access_token)"
   ]
  },
  {
   "cell_type": "code",
   "execution_count": null,
   "id": "0b454c42",
   "metadata": {},
   "outputs": [
    {
     "name": "stderr",
     "output_type": "stream",
     "text": [
      "Creating parquet from Arrow format: 100%|██████████| 98/98 [00:01<00:00, 54.77ba/s]\n",
      "Uploading the dataset shards: 100%|██████████| 1/1 [00:04<00:00,  4.47s/it]\n",
      "Creating parquet from Arrow format: 100%|██████████| 98/98 [00:02<00:00, 43.01ba/s]\n",
      "Uploading the dataset shards: 100%|██████████| 1/1 [00:08<00:00,  8.82s/it]\n",
      "Creating parquet from Arrow format: 100%|██████████| 21/21 [00:01<00:00, 11.18ba/s]\n",
      "Creating parquet from Arrow format: 100%|██████████| 21/21 [00:01<00:00, 11.40ba/s]\n",
      "Creating parquet from Arrow format: 100%|██████████| 21/21 [00:01<00:00, 11.38ba/s]\n",
      "Creating parquet from Arrow format: 100%|██████████| 21/21 [00:01<00:00, 11.26ba/s]\n",
      "Uploading the dataset shards: 100%|██████████| 4/4 [00:08<00:00,  2.10s/it]\n",
      "c:\\Users\\Omar\\AppData\\Local\\Programs\\Python\\Python310\\lib\\site-packages\\huggingface_hub\\file_download.py:143: UserWarning: `huggingface_hub` cache-system uses symlinks by default to efficiently store duplicated files but your machine does not support them in C:\\Users\\Omar\\.cache\\huggingface\\hub\\datasets--Czunzun--Reuters_first_4096. Caching files will still work but in a degraded version that might require more space on your disk. This warning can be disabled by setting the `HF_HUB_DISABLE_SYMLINKS_WARNING` environment variable. For more details, see https://huggingface.co/docs/huggingface_hub/how-to-cache#limitations.\n",
      "To support symlinks on Windows, you either need to activate Developer Mode or to run Python as an administrator. In order to activate developer mode, see this article: https://docs.microsoft.com/en-us/windows/apps/get-started/enable-your-device-for-development\n",
      "  warnings.warn(message)\n",
      "No files have been modified since last commit. Skipping to prevent empty commit.\n"
     ]
    }
   ],
   "source": [
    "for dataset in tokenized_datasets.keys():\n",
    "    tokenized_datasets[dataset].push_to_hub(f\"Czunzun/Reuters_{dataset}\")"
   ]
  }
 ],
 "metadata": {
  "kernelspec": {
   "display_name": "Python 3",
   "language": "python",
   "name": "python3"
  },
  "language_info": {
   "codemirror_mode": {
    "name": "ipython",
    "version": 3
   },
   "file_extension": ".py",
   "mimetype": "text/x-python",
   "name": "python",
   "nbconvert_exporter": "python",
   "pygments_lexer": "ipython3",
   "version": "3.10.17"
  }
 },
 "nbformat": 4,
 "nbformat_minor": 5
}
