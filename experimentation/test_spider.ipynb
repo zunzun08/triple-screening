{
 "cells": [
  {
   "cell_type": "code",
   "execution_count": 2,
   "id": "4d841457",
   "metadata": {},
   "outputs": [],
   "source": [
    "from extractor import NYTimesSpider\n",
    "import requests"
   ]
  },
  {
   "cell_type": "code",
   "execution_count": 3,
   "id": "bfdc1c3e",
   "metadata": {},
   "outputs": [],
   "source": [
    "spider = NYTimesSpider(pages_to_parse=1)"
   ]
  },
  {
   "cell_type": "code",
   "execution_count": 4,
   "id": "462a222e",
   "metadata": {},
   "outputs": [
    {
     "name": "stdout",
     "output_type": "stream",
     "text": [
      "testing token extraction\n",
      "Tokens: {'nyt-token': 'MIIBIjANBgkqhkiG9w0BAQEFAAOCAQ8AMIIBCgKCAQEAs+/oUCTBmD/cLdmcecrnBMHiU/pxQCn2DDyaPKUOXxi4p0uUSZQzsuq1pJ1m5z1i0YGPd1U1OeGHAChWtqoxC7bFMCXcwnE1oyui9G1uobgpm1GdhtwkR7ta7akVTcsF8zxiXx7DNXIPd2nIJFH83rmkZueKrC4JVaNzjvD+Z03piLn5bHWU6+w+rA+kyJtGgZNTXKyPh6EC6o5N+rknNMG5+CdTq35p8f99WjFawSvYgP9V64kgckbTbtdJ6YhVP58TnuYgr12urtwnIqWP9KSJ1e5vmgf3tunMqWNm6+AnsqNj8mCLdCuc5cEB74CwUeQcP2HQQmbCddBy2y0mEwIDAQAB', 'nyt-app-type': 'project-vi', 'nyt-app-version': '0.0.5'}\n"
     ]
    }
   ],
   "source": [
    "print('testing token extraction')\n",
    "tokens = spider._get_tokens()\n",
    "print(f'Tokens: {tokens}')"
   ]
  },
  {
   "cell_type": "code",
   "execution_count": 20,
   "id": "5434a734",
   "metadata": {},
   "outputs": [],
   "source": [
    "spider.header_update()"
   ]
  },
  {
   "cell_type": "code",
   "execution_count": 22,
   "id": "11f5162a",
   "metadata": {},
   "outputs": [],
   "source": [
    "spider_headers = spider.headers"
   ]
  },
  {
   "cell_type": "code",
   "execution_count": null,
   "id": "bed3791b",
   "metadata": {},
   "outputs": [],
   "source": []
  },
  {
   "cell_type": "code",
   "execution_count": 23,
   "id": "1107acb7",
   "metadata": {},
   "outputs": [
    {
     "data": {
      "text/plain": [
       "{'User-Agent': 'Mozilla/5.0',\n",
       " 'Accept': 'text/html,application/xhtml+xml,application/xml;q=0.9,*/*;q=0.8',\n",
       " 'nyt-token': 'MIIBIjANBgkqhkiG9w0BAQEFAAOCAQ8AMIIBCgKCAQEAs+/oUCTBmD/cLdmcecrnBMHiU/pxQCn2DDyaPKUOXxi4p0uUSZQzsuq1pJ1m5z1i0YGPd1U1OeGHAChWtqoxC7bFMCXcwnE1oyui9G1uobgpm1GdhtwkR7ta7akVTcsF8zxiXx7DNXIPd2nIJFH83rmkZueKrC4JVaNzjvD+Z03piLn5bHWU6+w+rA+kyJtGgZNTXKyPh6EC6o5N+rknNMG5+CdTq35p8f99WjFawSvYgP9V64kgckbTbtdJ6YhVP58TnuYgr12urtwnIqWP9KSJ1e5vmgf3tunMqWNm6+AnsqNj8mCLdCuc5cEB74CwUeQcP2HQQmbCddBy2y0mEwIDAQAB',\n",
       " 'nyt-app-type': 'project-vi',\n",
       " 'nyt-app-version': '0.0.5'}"
      ]
     },
     "execution_count": 23,
     "metadata": {},
     "output_type": "execute_result"
    }
   ],
   "source": [
    "spider_headers"
   ]
  },
  {
   "cell_type": "code",
   "execution_count": 5,
   "id": "84d45dbe",
   "metadata": {},
   "outputs": [
    {
     "name": "stdout",
     "output_type": "stream",
     "text": [
      "Testing request generation...\n",
      "Endpoint: https://samizdat-graphql.nytimes.com/graphql/v2?operation_name=CollectionsQuery&variables=%7B%22id%22%3A%20%22/section/business/media%22%2C%20%22first%22%3A%2010%2C%20%22exclusionMode%22%3A%20%22HIGHLIGHTS_AND_EMBEDDED%22%2C%20%22isFetchMore%22%3A%20false%2C%20%22isTranslatable%22%3A%20false%2C%20%22isEspanol%22%3A%20false%2C%20%22highlightsListUri%22%3A%20%22nyt%3A//per/personalized-list/__null__%22%2C%20%22highlightsListFirst%22%3A%200%2C%20%22hasHighlightsList%22%3A%20false%2C%20%22cursor%22%3A%20null%7D&extension=%7B%22persistedQuery%22%3A%20%7B%22version%22%3A%201%2C%20%22sha256Hash%22%3A%20%228334262659d77fc2166184bf897e6d139e437af3a9b84d0c020d3dfcb0f177b8%22%7D%7D\n"
     ]
    }
   ],
   "source": [
    "print(\"Testing request generation...\")\n",
    "endpoint = spider._request_generator()\n",
    "print(f\"Endpoint: {endpoint}\")"
   ]
  },
  {
   "cell_type": "code",
   "execution_count": 30,
   "id": "5935b670",
   "metadata": {},
   "outputs": [],
   "source": [
    "endpoint_wip = 'https://samizdat-graphql.nytimes.com/graphql/v2?operation_name=CollectionsQuery&variables=%7B%22id%22%3A%20%22%2Fsection%2Fbusiness%2Fmedia%22%2C%20%22first%22%3A%2010%2C%20%22exclusionMode%22%3A%20%22HIGHLIGHTS_AND_EMBEDDED%22%2C%20%22isFetchMore%22%3A%20false%2C%20%22isTranslatable%22%3A%20false%2C%20%22isEspanol%22%3A%20false%2C%20%22highlightsListUri%22%3A%20%22nyt%3A%2F%2Fper%2Fpersonalized-list%2F__null__%22%2C%20%22highlightsListFirst%22%3A%200%2C%20%22hasHighlightsList%22%3A%20false%2C%20%22cursor%22%3A%20null%7D&extension=%7B%22persistedQuery%22%3A%20%7B%22version%22%3A%201%2C%20%22sha256Hash%22%3A%20%228334262659d77fc2166184bf897e6d139e437af3a9b84d0c020d3dfcb0f177b8%22%7D%7D'"
   ]
  },
  {
   "cell_type": "code",
   "execution_count": 31,
   "id": "7695442a",
   "metadata": {},
   "outputs": [
    {
     "name": "stdout",
     "output_type": "stream",
     "text": [
      "Testing API connection...\n",
      "Connection OK: False\n"
     ]
    }
   ],
   "source": [
    "print(\"Testing API connection...\")\n",
    "connection_ok = spider._check_api_connection(endpoint_wip)\n",
    "print(f\"Connection OK: {connection_ok}\")"
   ]
  },
  {
   "cell_type": "code",
   "execution_count": 8,
   "id": "df0bd686",
   "metadata": {},
   "outputs": [],
   "source": [
    "endpoint_working = \"https://samizdat-graphql.nytimes.com/graphql/v2?operationName=CollectionsQuery&variables=%7B%22id%22%3A%22%2Fsection%2Fbusiness%2Fmedia%22%2C%22first%22%3A10%2C%22exclusionMode%22%3A%22HIGHLIGHTS_AND_EMBEDDED%22%2C%22isFetchMore%22%3Afalse%2C%22isTranslatable%22%3Afalse%2C%22isEspanol%22%3Afalse%2C%22highlightsListUri%22%3A%22nyt%3A%2F%2Fper%2Fpersonalized-list%2F__null__%22%2C%22highlightsListFirst%22%3A0%2C%22hasHighlightsList%22%3Afalse%2C%22cursor%22%3A%22YXJyYXljb25uZWN0aW9uOjIwOQ%3D%3D%22%7D&extensions=%7B%22persistedQuery%22%3A%7B%22version%22%3A1%2C%22sha256Hash%22%3A%228334262659d77fc2166184bf897e6d139e437af3a9b84d0c020d3dfcb0f177b8%22%7D%7D\""
   ]
  },
  {
   "cell_type": "code",
   "execution_count": 32,
   "id": "fe02a6b0",
   "metadata": {},
   "outputs": [
    {
     "name": "stdout",
     "output_type": "stream",
     "text": [
      "Testing API connection with API link from NYTIMES...\n",
      "Connection OK: True\n"
     ]
    }
   ],
   "source": [
    "print(\"Testing API connection with API link from NYTIMES...\")\n",
    "connection_ok = spider._check_api_connection(endpoint_working)\n",
    "print(f\"Connection OK: {connection_ok}\")"
   ]
  },
  {
   "cell_type": "code",
   "execution_count": 13,
   "id": "7bb9f44e",
   "metadata": {},
   "outputs": [],
   "source": [
    "sess = requests.Session()\n",
    "sess.headers.update({\"User-Agent\": \"Mozilla/5.0 (X11; Linux x86_64; rv:137.0) Gecko/20100101 Firefox/137.0\"})"
   ]
  },
  {
   "cell_type": "code",
   "execution_count": 16,
   "id": "2f59ea84",
   "metadata": {},
   "outputs": [
    {
     "data": {
      "text/plain": [
       "{'User-Agent': 'Mozilla/5.0', 'Accept-Encoding': 'gzip, deflate', 'Accept': 'text/html,application/xhtml+xml,application/xml;q=0.9,*/*;q=0.8', 'Connection': 'keep-alive'}"
      ]
     },
     "execution_count": 16,
     "metadata": {},
     "output_type": "execute_result"
    }
   ],
   "source": [
    "sess.headers.update(spider.headers)\n",
    "sess.headers\n"
   ]
  },
  {
   "cell_type": "code",
   "execution_count": 14,
   "id": "95e7cb0e",
   "metadata": {},
   "outputs": [
    {
     "name": "stdout",
     "output_type": "stream",
     "text": [
      "Testing API connection...\n",
      "Connection Status: 403\n",
      "Testing API connection with API link from NYTIMES...\n",
      "Connection OK: 403\n"
     ]
    }
   ],
   "source": [
    "print(\"Testing API connection...\")\n",
    "r = sess.get(endpoint)\n",
    "print(f\"Connection Status: {r.status_code}\")\n",
    "\n",
    "\n",
    "print(\"Testing API connection with API link from NYTIMES...\")\n",
    "r_2 = sess.get(endpoint_working)\n",
    "print(f\"Connection OK: {r_2.status_code}\")"
   ]
  },
  {
   "cell_type": "code",
   "execution_count": null,
   "id": "6bfdda2a",
   "metadata": {},
   "outputs": [],
   "source": []
  }
 ],
 "metadata": {
  "kernelspec": {
   "display_name": "Python 3",
   "language": "python",
   "name": "python3"
  },
  "language_info": {
   "codemirror_mode": {
    "name": "ipython",
    "version": 3
   },
   "file_extension": ".py",
   "mimetype": "text/x-python",
   "name": "python",
   "nbconvert_exporter": "python",
   "pygments_lexer": "ipython3",
   "version": "3.10.17"
  }
 },
 "nbformat": 4,
 "nbformat_minor": 5
}
